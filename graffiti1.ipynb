{
 "cells": [
  {
   "cell_type": "code",
   "execution_count": 2,
   "metadata": {},
   "outputs": [],
   "source": [
    "using SpecialFunctions\n",
    "using Plots"
   ]
  },
  {
   "cell_type": "code",
   "execution_count": 3,
   "metadata": {},
   "outputs": [],
   "source": [
    "plot(x->1/pi*sin(pi*x), xlabel=\"x\", ylabel=\"y\", label=\"y=1/π sin(x/π)\",xlims=(-1,1));"
   ]
  },
  {
   "cell_type": "code",
   "execution_count": 4,
   "metadata": {},
   "outputs": [],
   "source": [
    "plot(x->1/(gamma(x)gamma(1-x)), xlabel=\"x\", ylabel=\"y\", label=\"y=1/Γ(x)Γ(1-x)\",xlims=(-1,1));#sinとΓの関係"
   ]
  },
  {
   "cell_type": "code",
   "execution_count": 11,
   "metadata": {},
   "outputs": [
    {
     "name": "stderr",
     "output_type": "stream",
     "text": [
      "┌ Info: Saved animation to c:\\Users\\gf1cg\\Desktop\\plot.gif\n",
      "└ @ Plots C:\\Users\\gf1cg\\.julia\\packages\\Plots\\QWCV6\\src\\animation.jl:156\n"
     ]
    }
   ],
   "source": [
    "parb = Animation()#２次関数の係数による変化\n",
    "\n",
    "for a in -100:100\n",
    "    plt = plot(x->a/100*x^2 ,\n",
    "    title=\"a = \"*string(a/100) *\"   y=ax^2\", \n",
    "    label=\"\",\n",
    "    xlims =(-1,1),      #x範囲\n",
    "    ylims =(-1,1),      #y範囲\n",
    "    aspect_ratio =1,    #縦横比 \n",
    "    xlabel       =\"x\",   #x軸のラベル\n",
    "    ylabel       =\"y\",   #y軸のラベル\n",
    "    linecolor    =:blue,       #線の色\n",
    "    linewidth    =2,           #線幅\n",
    "    #linestyle    =:dot,        #線種\n",
    "    size         =(1000,1000),   #プロットのサイズ\n",
    "    )\n",
    "    frame(parb, plt)\n",
    "end\n",
    "\n",
    "gif(parb, \"plot.gif\", fps = 30);"
   ]
  },
  {
   "cell_type": "code",
   "execution_count": 6,
   "metadata": {},
   "outputs": [
    {
     "data": {
      "text/plain": [
       "wei (generic function with 1 method)"
      ]
     },
     "metadata": {},
     "output_type": "display_data"
    }
   ],
   "source": [
    "function wei(x,n)\n",
    "  s=0\n",
    "  for i in 0:n\n",
    "    s += 0.5^i*cos(7^(i)*pi*x)\n",
    "  end\n",
    "  return s\n",
    "end"
   ]
  },
  {
   "cell_type": "code",
   "execution_count": 22,
   "metadata": {},
   "outputs": [
    {
     "name": "stderr",
     "output_type": "stream",
     "text": [
      "┌ Info: Saved animation to c:\\Users\\gf1cg\\Desktop\\plot.gif\n",
      "└ @ Plots C:\\Users\\gf1cg\\.julia\\packages\\Plots\\QWCV6\\src\\animation.jl:156\n"
     ]
    }
   ],
   "source": [
    "weir = Animation()#Weierstraß函数の収束してく感じ\n",
    "for n in 0:10\n",
    "    plt = plot(x->wei(x,n),\n",
    "    title =\"Weierstraß function \",\n",
    "    label=\"\",\n",
    "    xlims =(-1,1),      #x範囲\n",
    "    ylims =(-2,2),      #y範囲\n",
    "    #aspect_ratio =1,    #縦横比 \n",
    "    xlabel       =\"x\",   #x軸のラベル\n",
    "    ylabel       =\"y\",   #y軸のラベル\n",
    "    linecolor    =:blue,       #線の色\n",
    "    linewidth    =1,           #線幅\n",
    "    #linestyle    =:dot,        #線種\n",
    "    #size         =(1000,1000),   #プロットのサイズ\n",
    "    )\n",
    "    frame(weir, plt)\n",
    "end\n",
    "\n",
    "gif(weir, \"plot.gif\", fps = 3);"
   ]
  }
 ],
 "metadata": {
  "kernelspec": {
   "display_name": "Julia 1.8.5",
   "language": "julia",
   "name": "julia-1.8"
  },
  "language_info": {
   "file_extension": ".jl",
   "mimetype": "application/julia",
   "name": "julia",
   "version": "1.8.5"
  }
 },
 "nbformat": 4,
 "nbformat_minor": 4
}
