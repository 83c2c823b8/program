{
 "cells": [
  {
   "cell_type": "markdown",
   "metadata": {},
   "source": [
    "# 便利な標準関数たち"
   ]
  },
  {
   "cell_type": "markdown",
   "metadata": {},
   "source": [
    "## 演算系"
   ]
  },
  {
   "cell_type": "code",
   "execution_count": 4,
   "metadata": {},
   "outputs": [
    {
     "name": "stdout",
     "output_type": "stream",
     "text": [
      "2-2\n",
      "2-3\n",
      "3-3\n"
     ]
    }
   ],
   "source": [
    "println(div(5,2), div(-5,2))#切り捨て\n",
    "println(fld(5,2), fld(-5,2))#切り下げ　floor division\n",
    "println(cld(5,2), fld(-5,2))#切り上げ　ceiling division"
   ]
  },
  {
   "cell_type": "markdown",
   "metadata": {},
   "source": [
    "- RoundToZero 切り捨て\n",
    "- RoundDonw 切り下げ\n",
    "- RoundUp 切り上げ\n",
    "- RoundNearest 最近接丸め(偶数)\n",
    "- RoundNearestTiesAway 最近接丸め(0から遠いほう)\n",
    "- RoundNearestTiesUP 最近接丸め(切り上げ)"
   ]
  },
  {
   "cell_type": "code",
   "execution_count": 5,
   "metadata": {},
   "outputs": [
    {
     "data": {
      "text/plain": [
       "3"
      ]
     },
     "metadata": {},
     "output_type": "display_data"
    }
   ],
   "source": [
    "div(5,2,RoundNearestTiesAway)"
   ]
  },
  {
   "cell_type": "code",
   "execution_count": 6,
   "metadata": {},
   "outputs": [
    {
     "data": {
      "text/plain": [
       "-3"
      ]
     },
     "metadata": {},
     "output_type": "display_data"
    }
   ],
   "source": [
    "÷(-5,2,RoundDown)"
   ]
  },
  {
   "cell_type": "markdown",
   "metadata": {},
   "source": [
    "- %,rem 整数剰余算(切り捨て)\n",
    "- mod 整数剰余算(切り下げ)　"
   ]
  },
  {
   "cell_type": "code",
   "execution_count": 1,
   "metadata": {},
   "outputs": [
    {
     "data": {
      "text/plain": [
       "(3.0, 0.7)"
      ]
     },
     "metadata": {},
     "output_type": "display_data"
    }
   ],
   "source": [
    "divrem(4.3,1.2)"
   ]
  },
  {
   "cell_type": "code",
   "execution_count": 3,
   "metadata": {},
   "outputs": [
    {
     "data": {
      "text/plain": [
       "dayname (generic function with 1 method)"
      ]
     },
     "metadata": {},
     "output_type": "display_data"
    }
   ],
   "source": [
    "dayofweek(date) = mod1(days(date),7)\n",
    "days_of_week = [\"Monday\" , \"Tuesday\" , \"Wednesday\" , \"Thursday\", \"Friday\" ,\"Saturday\" ,\"Sunday\"]\n",
    "dayname(date) = days_of_week[dayofweek]"
   ]
  },
  {
   "cell_type": "code",
   "execution_count": 16,
   "metadata": {},
   "outputs": [
    {
     "data": {
      "text/plain": [
       "4.6017763138449626"
      ]
     },
     "metadata": {},
     "output_type": "display_data"
    }
   ],
   "source": [
    "mod(2+2π , 2pi)\n",
    "mod2pi(10)\n",
    "rem2pi(80,RoundDown)"
   ]
  },
  {
   "cell_type": "markdown",
   "metadata": {},
   "source": [
    "行列演算では有用らしい"
   ]
  },
  {
   "cell_type": "code",
   "execution_count": 18,
   "metadata": {},
   "outputs": [
    {
     "data": {
      "text/plain": [
       "1.5"
      ]
     },
     "metadata": {},
     "output_type": "display_data"
    }
   ],
   "source": [
    "2\\3"
   ]
  },
  {
   "cell_type": "markdown",
   "metadata": {},
   "source": [
    "### 積和演算\n",
    "x * y + z\n",
    "- fma() 精度優先\n",
    "- muladd() パフォーマンス優先"
   ]
  },
  {
   "cell_type": "code",
   "execution_count": 20,
   "metadata": {},
   "outputs": [
    {
     "data": {
      "text/plain": [
       "0.32"
      ]
     },
     "metadata": {},
     "output_type": "display_data"
    }
   ],
   "source": [
    "fma(0.1,0.2,0.3)\n",
    "muladd(0.1,0.2,0.3)"
   ]
  },
  {
   "cell_type": "markdown",
   "metadata": {},
   "source": [
    "### 剰余演算"
   ]
  },
  {
   "cell_type": "markdown",
   "metadata": {},
   "source": [
    "オーバーフローしないようになっている"
   ]
  },
  {
   "cell_type": "code",
   "execution_count": 21,
   "metadata": {},
   "outputs": [
    {
     "data": {
      "text/plain": [
       "5"
      ]
     },
     "metadata": {},
     "output_type": "display_data"
    }
   ],
   "source": [
    "powermod(5,2,20) # == mod(5^2,20)"
   ]
  },
  {
   "cell_type": "markdown",
   "metadata": {},
   "source": [
    "### 演算系\n",
    "- sign(x) 符号関数\n",
    "- sign(y) 符号関数 true false\n",
    "- cmp(x,y) 比較関数\n",
    "- abs(x) 絶対値\n",
    "- abs2(x) 絶対値の2乗\n",
    "- copysign(x,y) abs(x)*sign(y)\n",
    "- flipsign(x,y) x*sign(y)\n",
    "- sqrt(x)\n",
    "- isqrt(x) 整数平方根\n",
    "- cbrt(x) 立方根"
   ]
  },
  {
   "cell_type": "markdown",
   "metadata": {},
   "source": [
    "### 数学系\n",
    "- sin 正弦\n",
    "- cos 余弦\n",
    "- tan 正接\n",
    "- asin 逆正弦\n",
    "- acos 逆余弦\n",
    "- atan 逆正接\n",
    "- atan(x,y) arctan(y/x)\n",
    "- exp 指数\n",
    "- log 自然対数\n",
    "- log(b,x) bを底とする対数\n",
    "- sinh 双曲正弦\n",
    "- cosh 双曲余弦\n",
    "- tanh 双曲正接\n",
    "- asinh \n",
    "- acosh\n",
    "- atanh\n",
    "- sec\n",
    "- csc\n",
    "- cot\n",
    "- asec\n",
    "- acot\n",
    "- log10\n",
    "- log2\n",
    "- log1p log(x + 1)\n",
    "- deg2rad 度 → ラジアン\n",
    "- rad2deg\n",
    "- 三角関数にdをつければ度数法\n",
    "- sinpi sin(π*x)\n",
    "- cospi\n",
    "- tanpi\n",
    "- sincos (sin(x), cos(x))\n",
    "- sincospi\n",
    "- cis exp(i*im)\n",
    "- cispi cis(π*x)\n",
    "- factorial n!\n",
    "- bionomial nCm\n",
    "- gcd(a,b...)\n",
    "- gcdx() 最大公約数 + ベズー係数"
   ]
  },
  {
   "cell_type": "markdown",
   "metadata": {},
   "source": [
    "### 文字・文字列情報取得関数・演算子\n",
    "- length\n",
    "- sizeof\n",
    "- ncodeunits\n",
    "- codepoint\n",
    "- codeunits\n",
    "- codeunit\n",
    "- s[i] インデクシング\n",
    "- @view s[i] 部分文字列抽出\n",
    "- first(s) 文字列の最初の文字\n",
    "- frist(s,n)\n",
    "- last(s)\n",
    "- last(s,n)\n",
    "- firstindex(s) 文字列最初のインデックス\n",
    "- lastindex(s) 文字列最後のインデックス\n",
    "- thisind(s,i)\n",
    "- prevind(s,i)\n",
    "- eachindex(s)\n",
    "- keys(s) \n",
    "- textwidth(s) 文字列の表示幅"
   ]
  },
  {
   "cell_type": "markdown",
   "metadata": {},
   "source": [
    "### 文字・文字列比較関数・演算子\n",
    "- == 等価演算子\n",
    "- != ,≠ 非等価演算子\n",
    "- < <= > >=\n",
    "- cmp 辞書式大小比較\n",
    "- c in S \\in \\notin"
   ]
  },
  {
   "cell_type": "markdown",
   "metadata": {
    "tags": []
   },
   "source": [
    "### 文字列操作関数・演算子\n",
    "- string(v..) 文字列化関数\n",
    "- s*t 文字列連結\n",
    "- s^n , repeat(s,n) 文字列リピート\n",
    "- uppercase(s) 小文字を大文字に変換\n",
    "- lowercase(s) 大文字を小文字に変換\n",
    "- uppercasefirst(s) 文字列の最初の文字を大文字に変換\n",
    "- lowercasefirst(s)\n",
    "- titlecase(s) 文字列の最初の文字を大文字に，それ以外を小文字に\n",
    "- join(collection ,delim)コレクションの各要素をdelimで連結した文字列を生成\n",
    "- chop(s) 文字列の末尾の文字除去\n",
    "- chomp(s) 文字列末尾の改行文字除去\n",
    "- split(s) rsplit(s) ホワイトスペースによる文字列分割\n",
    "- split(s,pattern) rsplit(s,pattern) patternによる文字列分割\n",
    "- strip(s) lstrip(s) rstrip(s) 文字列の先頭，末尾のホワイトスペースの除去\n",
    "- strip(s,chars),lstrip(s,chars),rstrip(s,chars) 文字列の先頭/末尾の特定文字の除去\n",
    "- strip(fn,s),lstrip(fn,s),rstrip(fn,s) 文字列の先頭/末尾の特定文字の除去\n",
    "- lpad(s,l.pad=' '),rpad(s,l,pad=' ') 文字列の行埋め\n",
    "- reverse() 文字列反転"
   ]
  },
  {
   "cell_type": "markdown",
   "metadata": {},
   "source": [
    "### 文字列検索･置換関連関数\n",
    "- match(r::Regex, s) 正規表現マッチ\n",
    "- each(r::Regex, s) 正規表現マッチイテレーション\n",
    "- findfirst(pattern .s,) パターン検索(先頭から)\n",
    "- findnext(patten,s,i) パターン検索(iバイト目以降)\n",
    "- findlast(ptnstr,s) 文字列検索(末尾から)\n",
    "- findprev(prnstr, s, i)文字列検索(iバイト目以前)\n",
    "- findall(pattern,s) パターン検索\n",
    "- count(patten,s) パターン検索(件数)\n",
    "- occursin(patten,s) パターンが含まれるか否か\n",
    "- contains(s,pattern) 同上\n",
    "- startswith(s,pattern) パターンで始まるか否か\n",
    "- endswith(s,pattern) パターンで終わるか否か\n",
    "- replace(s,patten=>subst) 文字列置換"
   ]
  },
  {
   "cell_type": "markdown",
   "metadata": {},
   "source": [
    "### Julia の正規表現\n",
    "- ^ 先頭 \n",
    "- | 代替\n",
    "- . 任意の1文字\n",
    "- * 直前のパターンの0回以上の繰り返し\n",
    "- + 直前のパターンの1回以上の繰り返し\n",
    "- {n,m} 直前のパターンのn回以上m回以下の繰り返し {n} n回の繰り返し\n",
    "- [a-z] 文字クラス\n",
    "- \\s ホワイトスペース\n",
    "- \\d 数字\n",
    "- \\w 単語構成文字\n",
    "- (...) キャプチャグループ\n",
    "- (?<name>...) 名前付きキャプチャグループ"
   ]
  },
  {
   "cell_type": "markdown",
   "metadata": {},
   "source": [
    "#### 正規表現のモードフラグ\n",
    "- i 大文字小文字区別しない\n",
    "- m 複数行モード\n",
    "- s 任意の1文字が改行にもマッチ\n",
    "- a ASCIIモード\n",
    "- x コメントモード"
   ]
  },
  {
   "cell_type": "code",
   "execution_count": 24,
   "metadata": {},
   "outputs": [
    {
     "data": {
      "text/plain": [
       "\"123\""
      ]
     },
     "metadata": {},
     "output_type": "display_data"
    }
   ],
   "source": [
    "m = match(r\"\\d+\",\"123dfaisfjhaklj54\") \n",
    "m.match"
   ]
  },
  {
   "cell_type": "code",
   "execution_count": 27,
   "metadata": {},
   "outputs": [
    {
     "data": {
      "text/plain": [
       "\"123ABC\""
      ]
     },
     "metadata": {},
     "output_type": "display_data"
    }
   ],
   "source": [
    "m = match(r\"(\\d+)(?<ABC>[ABC]+)\",\"123ABCdfaisfABCjhaklj54\") \n",
    "m.match"
   ]
  },
  {
   "cell_type": "code",
   "execution_count": 29,
   "metadata": {},
   "outputs": [
    {
     "name": "stdout",
     "output_type": "stream",
     "text": [
      "Yes\n",
      "I\n",
      "have\n",
      "a\n",
      "number\n"
     ]
    }
   ],
   "source": [
    "for m in eachmatch(r\"\\w+\",\"Yes, I have a number.\")\n",
    "  println(m.match)\n",
    "end"
   ]
  },
  {
   "cell_type": "markdown",
   "metadata": {},
   "source": [
    "- \\0 マッチした部分文字列 m.match\n",
    "- \\1 \\2 キャプチャグループ\n",
    "- \\g<1> \n",
    "- \\g < name >"
   ]
  },
  {
   "cell_type": "code",
   "execution_count": 9,
   "metadata": {},
   "outputs": [
    {
     "data": {
      "text/plain": [
       "\"112233ABCあいう漢字\""
      ]
     },
     "metadata": {},
     "output_type": "display_data"
    }
   ],
   "source": [
    "replace(\"123ABCあいう漢字\",r\"\\d\"=> s\"\\0\\0\")"
   ]
  },
  {
   "cell_type": "code",
   "execution_count": 10,
   "metadata": {},
   "outputs": [
    {
     "data": {
      "text/plain": [
       "\"112131ABCあいう漢字\""
      ]
     },
     "metadata": {},
     "output_type": "display_data"
    }
   ],
   "source": [
    "replace(\"123ABCあいう漢字\",r\"\\d\"=> s\"\\g<0>1\")"
   ]
  },
  {
   "cell_type": "code",
   "execution_count": 15,
   "metadata": {},
   "outputs": [
    {
     "data": {
      "text/plain": [
       "\"ABC123あいう漢字\""
      ]
     },
     "metadata": {},
     "output_type": "display_data"
    }
   ],
   "source": [
    "replace(\"123ABCあいう漢字\",r\"(\\d+)(?<abc>[a-z]+)\"ia=>s\"\\g<abc>\\1\")"
   ]
  },
  {
   "cell_type": "markdown",
   "metadata": {},
   "source": [
    "- length\n",
    "- isempty\n",
    "- in A \n",
    "- eltype\n",
    "- ndims\n",
    "- size 配列のサイズ\n",
    "- axes インデックス範囲"
   ]
  },
  {
   "cell_type": "code",
   "execution_count": 16,
   "metadata": {},
   "outputs": [
    {
     "data": {
      "text/plain": [
       "3"
      ]
     },
     "metadata": {},
     "output_type": "display_data"
    }
   ],
   "source": [
    "A = [100z + 10y + x for x = 1:3 ,y = 1:4 , z= 1:2];\n",
    "ndims(A)"
   ]
  },
  {
   "cell_type": "code",
   "execution_count": 17,
   "metadata": {},
   "outputs": [
    {
     "data": {
      "text/plain": [
       "(3, 4, 2)"
      ]
     },
     "metadata": {},
     "output_type": "display_data"
    }
   ],
   "source": [
    "size(A)"
   ]
  },
  {
   "cell_type": "code",
   "execution_count": 18,
   "metadata": {},
   "outputs": [
    {
     "data": {
      "text/plain": [
       "(Base.OneTo(3), Base.OneTo(4), Base.OneTo(2))"
      ]
     },
     "metadata": {},
     "output_type": "display_data"
    }
   ],
   "source": [
    "axes(A)"
   ]
  },
  {
   "cell_type": "code",
   "execution_count": 19,
   "metadata": {},
   "outputs": [
    {
     "data": {
      "text/plain": [
       "Base.OneTo(4)"
      ]
     },
     "metadata": {},
     "output_type": "display_data"
    }
   ],
   "source": [
    "axes(A,2)"
   ]
  },
  {
   "cell_type": "code",
   "execution_count": 20,
   "metadata": {},
   "outputs": [
    {
     "name": "stdout",
     "output_type": "stream",
     "text": [
      "111\n",
      "211\n",
      "121\n",
      "221\n",
      "131\n",
      "231\n",
      "141\n",
      "241\n",
      "112\n",
      "212\n",
      "122\n",
      "222\n",
      "132\n",
      "232\n",
      "142\n",
      "242\n",
      "113\n",
      "213\n",
      "123\n",
      "223\n",
      "133\n",
      "233\n",
      "143\n",
      "243\n"
     ]
    }
   ],
   "source": [
    "for x in axes(A,1) ,y in axes(A,2) ,z in axes(A,3)\n",
    "  println(A[x,y,z])\n",
    "end"
   ]
  },
  {
   "cell_type": "markdown",
   "metadata": {},
   "source": [
    "### 配列生成演算子"
   ]
  },
  {
   "cell_type": "code",
   "execution_count": 21,
   "metadata": {},
   "outputs": [
    {
     "data": {
      "text/plain": [
       "(Base.OneTo(3),)"
      ]
     },
     "metadata": {},
     "output_type": "display_data"
    }
   ],
   "source": [
    "axes((:a,:b,:c))"
   ]
  },
  {
   "cell_type": "code",
   "execution_count": 25,
   "metadata": {},
   "outputs": [
    {
     "data": {
      "text/plain": [
       "5-element Vector{Int64}:\n",
       " 140415472932248\n",
       " 140415472917424\n",
       " 140415473006272\n",
       " 140415472943304\n",
       " 140415255046784"
      ]
     },
     "metadata": {},
     "output_type": "display_data"
    }
   ],
   "source": [
    "Vector{Int}(undef,5)"
   ]
  },
  {
   "cell_type": "code",
   "execution_count": 26,
   "metadata": {},
   "outputs": [
    {
     "data": {
      "text/plain": [
       "2×2 Matrix{Float64}:\n",
       " 6.93745e-310  6.93744e-310\n",
       " 6.93744e-310  6.93744e-310"
      ]
     },
     "metadata": {},
     "output_type": "display_data"
    }
   ],
   "source": [
    "Matrix{Float64}(undef,2,2)"
   ]
  },
  {
   "cell_type": "code",
   "execution_count": 30,
   "metadata": {},
   "outputs": [
    {
     "data": {
      "text/plain": [
       "2×3×2 Array{UInt8, 3}:\n",
       "[:, :, 1] =\n",
       " 0xb0  0xa3  0xb5\n",
       " 0x19  0x03  0x7f\n",
       "\n",
       "[:, :, 2] =\n",
       " 0x00  0x08  0x5f\n",
       " 0x00  0xf0  0x06"
      ]
     },
     "metadata": {},
     "output_type": "display_data"
    }
   ],
   "source": [
    "Array{UInt8}(undef,2,3,2)"
   ]
  },
  {
   "cell_type": "code",
   "execution_count": 31,
   "metadata": {},
   "outputs": [
    {
     "data": {
      "text/plain": [
       "5-element Vector{Int64}:\n",
       " 0\n",
       " 0\n",
       " 0\n",
       " 0\n",
       " 0"
      ]
     },
     "metadata": {},
     "output_type": "display_data"
    }
   ],
   "source": [
    "zeros(Int,5)"
   ]
  },
  {
   "cell_type": "code",
   "execution_count": 32,
   "metadata": {},
   "outputs": [
    {
     "data": {
      "text/plain": [
       "2×2 Matrix{Float64}:\n",
       " 1.0  1.0\n",
       " 1.0  1.0"
      ]
     },
     "metadata": {},
     "output_type": "display_data"
    }
   ],
   "source": [
    "ones(2,2)"
   ]
  },
  {
   "cell_type": "code",
   "execution_count": 33,
   "metadata": {},
   "outputs": [
    {
     "data": {
      "text/plain": [
       "2×2 Matrix{UInt8}:\n",
       " 0x7f  0x7f\n",
       " 0x7f  0x7f"
      ]
     },
     "metadata": {},
     "output_type": "display_data"
    }
   ],
   "source": [
    "fill(0x7f,2,2)"
   ]
  },
  {
   "cell_type": "code",
   "execution_count": 34,
   "metadata": {},
   "outputs": [
    {
     "data": {
      "text/plain": [
       "12×13 BitMatrix:\n",
       " 0  0  1  1  0  0  0  1  1  1  0  0  0\n",
       " 0  0  1  1  0  0  0  1  0  1  0  0  0\n",
       " 0  0  0  0  0  0  0  1  1  1  0  0  0\n",
       " 0  0  0  1  0  0  1  0  0  0  0  0  0\n",
       " 1  1  0  1  0  0  0  1  1  0  0  0  0\n",
       " 0  0  0  1  0  0  0  1  1  0  0  0  0\n",
       " 1  0  0  1  0  0  0  0  0  0  0  0  0\n",
       " 0  0  0  1  0  0  0  0  1  0  0  0  0\n",
       " 0  1  1  1  0  1  1  0  1  0  0  0  0\n",
       " 0  1  0  1  0  0  0  0  1  0  0  0  0\n",
       " 0  1  1  1  0  0  0  0  1  0  0  0  0\n",
       " 1  0  0  0  0  1  0  0  1  0  0  0  0"
      ]
     },
     "metadata": {},
     "output_type": "display_data"
    }
   ],
   "source": [
    "BitArray(undef,12,13)"
   ]
  },
  {
   "cell_type": "code",
   "execution_count": 35,
   "metadata": {},
   "outputs": [
    {
     "data": {
      "text/plain": [
       "3×4×2 BitArray{3}:\n",
       "[:, :, 1] =\n",
       " 1  1  1  1\n",
       " 1  1  1  1\n",
       " 1  1  1  1\n",
       "\n",
       "[:, :, 2] =\n",
       " 1  1  1  1\n",
       " 1  1  1  1\n",
       " 1  1  1  1"
      ]
     },
     "metadata": {},
     "output_type": "display_data"
    }
   ],
   "source": [
    "trues(3,4,2)"
   ]
  },
  {
   "cell_type": "code",
   "execution_count": 37,
   "metadata": {},
   "outputs": [
    {
     "data": {
      "text/plain": [
       "BitVector\u001b[90m (alias for \u001b[39m\u001b[90mBitArray{1}\u001b[39m\u001b[90m)\u001b[39m"
      ]
     },
     "metadata": {},
     "output_type": "display_data"
    }
   ],
   "source": [
    "typeof(1:2:10 .== [2,33,34,12,30])"
   ]
  },
  {
   "cell_type": "code",
   "execution_count": 38,
   "metadata": {},
   "outputs": [
    {
     "data": {
      "text/plain": [
       "2×2 Matrix{UInt8}:\n",
       " 0x01  0x02\n",
       " 0x03  0x04"
      ]
     },
     "metadata": {},
     "output_type": "display_data"
    }
   ],
   "source": [
    "A = UInt8[1 2 ; 3 4]"
   ]
  },
  {
   "cell_type": "code",
   "execution_count": 39,
   "metadata": {},
   "outputs": [
    {
     "data": {
      "text/plain": [
       "3×4×2 Array{UInt8, 3}:\n",
       "[:, :, 1] =\n",
       " 0x00  0x00  0x00  0x60\n",
       " 0x00  0x00  0x00  0xd9\n",
       " 0x00  0x00  0x70  0xfd\n",
       "\n",
       "[:, :, 2] =\n",
       " 0xb4  0x00  0xd9  0x7f\n",
       " 0x7f  0x60  0xfd  0x00\n",
       " 0x00  0x80  0xb4  0x00"
      ]
     },
     "metadata": {},
     "output_type": "display_data"
    }
   ],
   "source": [
    "similar(A,3,4,2)"
   ]
  },
  {
   "cell_type": "code",
   "execution_count": 40,
   "metadata": {},
   "outputs": [
    {
     "data": {
      "text/plain": [
       "2×2 Matrix{Float32}:\n",
       " 7.41727f-37  2.7981f-35\n",
       " 4.5813f-41   4.5813f-41"
      ]
     },
     "metadata": {},
     "output_type": "display_data"
    }
   ],
   "source": [
    "similar(A,Float32)"
   ]
  },
  {
   "cell_type": "code",
   "execution_count": 41,
   "metadata": {},
   "outputs": [
    {
     "data": {
      "text/plain": [
       "2×2 BitMatrix:\n",
       " 0  0\n",
       " 0  0"
      ]
     },
     "metadata": {},
     "output_type": "display_data"
    }
   ],
   "source": [
    "B = BitArray(undef,2,2)"
   ]
  },
  {
   "cell_type": "code",
   "execution_count": 42,
   "metadata": {},
   "outputs": [
    {
     "data": {
      "text/plain": [
       "10-element BitVector:\n",
       " 0\n",
       " 0\n",
       " 0\n",
       " 0\n",
       " 0\n",
       " 0\n",
       " 0\n",
       " 0\n",
       " 0\n",
       " 0"
      ]
     },
     "metadata": {},
     "output_type": "display_data"
    }
   ],
   "source": [
    "similar(B,10)"
   ]
  },
  {
   "cell_type": "code",
   "execution_count": 45,
   "metadata": {},
   "outputs": [
    {
     "data": {
      "text/plain": [
       "2-element Vector{Int64}:\n",
       " 1\n",
       " 1"
      ]
     },
     "metadata": {},
     "output_type": "display_data"
    }
   ],
   "source": [
    "A = [1 2 ;3 4];\n",
    "x = [-1 ; 1];\n",
    "y = A*x"
   ]
  },
  {
   "cell_type": "code",
   "execution_count": 57,
   "metadata": {},
   "outputs": [
    {
     "name": "stdout",
     "output_type": "stream",
     "text": [
      "[1 3; 2 4]\n",
      "[1 3; 2 4]\n",
      "[10 14; 14 20]\n",
      "ComplexF64[1.0 - 1.0im 22.16716829679195 + 1.0im; 2.0 + 3.0im 3.141592653589793 + 0.0im]\n",
      "ComplexF64[1.0 + 1.0im 22.16716829679195 - 1.0im; 2.0 - 3.0im 3.141592653589793 - 0.0im]\n"
     ]
    }
   ],
   "source": [
    "A = [1 2 ; 3 4];\n",
    "x = [-1 : 1];\n",
    "println(transpose(A))\n",
    "println(A')\n",
    "println(A'A)\n",
    "C = [1-1im 2 + 3im ; 3ℯ^2 + im  π]\n",
    "println(transpose(C))\n",
    "println(C')"
   ]
  },
  {
   "cell_type": "code",
   "execution_count": 58,
   "metadata": {},
   "outputs": [
    {
     "data": {
      "text/plain": [
       "4-element Vector{Int64}:\n",
       " 1\n",
       " 2\n",
       " 3\n",
       " 4"
      ]
     },
     "metadata": {},
     "output_type": "display_data"
    }
   ],
   "source": [
    "q = [1,2,3,4]"
   ]
  },
  {
   "cell_type": "code",
   "execution_count": 59,
   "metadata": {},
   "outputs": [
    {
     "data": {
      "text/plain": [
       "6-element Vector{Int64}:\n",
       "  1\n",
       "  2\n",
       "  3\n",
       "  4\n",
       " 12\n",
       " 32"
      ]
     },
     "metadata": {},
     "output_type": "display_data"
    }
   ],
   "source": [
    "push!(q,12,32)"
   ]
  },
  {
   "cell_type": "code",
   "execution_count": 60,
   "metadata": {},
   "outputs": [
    {
     "data": {
      "text/plain": [
       "32"
      ]
     },
     "metadata": {},
     "output_type": "display_data"
    }
   ],
   "source": [
    "pop!(q)"
   ]
  },
  {
   "cell_type": "code",
   "execution_count": 61,
   "metadata": {},
   "outputs": [
    {
     "data": {
      "text/plain": [
       "12"
      ]
     },
     "metadata": {},
     "output_type": "display_data"
    }
   ],
   "source": [
    "pop!(q)"
   ]
  },
  {
   "cell_type": "code",
   "execution_count": 62,
   "metadata": {},
   "outputs": [
    {
     "data": {
      "text/plain": [
       "4-element Vector{Int64}:\n",
       " 1\n",
       " 2\n",
       " 3\n",
       " 4"
      ]
     },
     "metadata": {},
     "output_type": "display_data"
    }
   ],
   "source": [
    "q"
   ]
  },
  {
   "cell_type": "code",
   "execution_count": 63,
   "metadata": {},
   "outputs": [
    {
     "data": {
      "text/plain": [
       "6-element Vector{Int64}:\n",
       " -2\n",
       " -1\n",
       "  1\n",
       "  2\n",
       "  3\n",
       "  4"
      ]
     },
     "metadata": {},
     "output_type": "display_data"
    }
   ],
   "source": [
    "pushfirst!(q,-2,-1)"
   ]
  },
  {
   "cell_type": "code",
   "execution_count": 64,
   "metadata": {},
   "outputs": [
    {
     "data": {
      "text/plain": [
       "-2"
      ]
     },
     "metadata": {},
     "output_type": "display_data"
    }
   ],
   "source": [
    "popfirst!(q)"
   ]
  },
  {
   "cell_type": "code",
   "execution_count": 65,
   "metadata": {},
   "outputs": [
    {
     "data": {
      "text/plain": [
       "12-element Vector{Int64}:\n",
       " -2\n",
       " -1\n",
       "  0\n",
       " -1\n",
       "  1\n",
       "  2\n",
       "  3\n",
       "  4\n",
       "  6\n",
       "  7\n",
       "  8\n",
       "  9"
      ]
     },
     "metadata": {},
     "output_type": "display_data"
    }
   ],
   "source": [
    "prepend!(append!(q, 6:9),-2:0)"
   ]
  },
  {
   "cell_type": "code",
   "execution_count": 67,
   "metadata": {},
   "outputs": [
    {
     "data": {
      "text/plain": [
       "10-element Vector{Int64}:\n",
       " -2\n",
       " -1\n",
       "  0\n",
       "  2\n",
       "  3\n",
       "  4\n",
       "  6\n",
       "  7\n",
       "  8\n",
       "  9"
      ]
     },
     "metadata": {},
     "output_type": "display_data"
    }
   ],
   "source": [
    "popat!(q,4)\n",
    "q"
   ]
  },
  {
   "cell_type": "code",
   "execution_count": 68,
   "metadata": {},
   "outputs": [
    {
     "data": {
      "text/plain": [
       "8-element Vector{Int64}:\n",
       " -2\n",
       " -1\n",
       "  3\n",
       "  4\n",
       "  6\n",
       "  7\n",
       "  8\n",
       "  9"
      ]
     },
     "metadata": {},
     "output_type": "display_data"
    }
   ],
   "source": [
    "deleteat!(q,3:4)"
   ]
  },
  {
   "cell_type": "code",
   "execution_count": 69,
   "metadata": {},
   "outputs": [
    {
     "data": {
      "text/plain": [
       "7-element Vector{Int64}:\n",
       " -2\n",
       " -1\n",
       "  3\n",
       "  6\n",
       "  7\n",
       "  8\n",
       "  9"
      ]
     },
     "metadata": {},
     "output_type": "display_data"
    }
   ],
   "source": [
    "popat!(q,4,999)\n",
    "q"
   ]
  },
  {
   "cell_type": "code",
   "execution_count": 80,
   "metadata": {},
   "outputs": [
    {
     "name": "stdout",
     "output_type": "stream",
     "text": [
      "10\n",
      "[4 6]\n",
      "[3; 7;;]\n",
      "24\n",
      "4\n",
      "1"
     ]
    },
    {
     "name": "stdout",
     "output_type": "stream",
     "text": [
      "\n"
     ]
    }
   ],
   "source": [
    "A = [1 2 ; 3 4]\n",
    "println(sum(A))\n",
    "println(sum(A,dims=1))\n",
    "println(sum(A,dims=2))\n",
    "println(prod(A))\n",
    "println(maximum(A))\n",
    "println(minimum(A))"
   ]
  },
  {
   "cell_type": "code",
   "execution_count": 103,
   "metadata": {},
   "outputs": [
    {
     "name": "stdout",
     "output_type": "stream",
     "text": [
      "[0.606539863728943, 0.5777928522143645, 0.09838997374938596, 0.26286221322305003, 0.1705229774148912, 0.5784734062510021, 0.2852078233299866, 0.2691912184295743, 0.8132605760265043, 0.3071087275141068]\n"
     ]
    },
    {
     "data": {
      "text/plain": [
       "5-element Vector{Int64}:\n",
       "  1\n",
       "  2\n",
       "  6\n",
       "  9\n",
       " 10"
      ]
     },
     "metadata": {},
     "output_type": "display_data"
    }
   ],
   "source": [
    "x = rand(10)\n",
    "println(x)\n",
    "findall(>(0.3),x)"
   ]
  },
  {
   "cell_type": "code",
   "execution_count": 90,
   "metadata": {},
   "outputs": [
    {
     "data": {
      "text/plain": [
       "2"
      ]
     },
     "metadata": {},
     "output_type": "display_data"
    }
   ],
   "source": [
    "findfirst(<(0.7),x)"
   ]
  },
  {
   "cell_type": "code",
   "execution_count": 105,
   "metadata": {},
   "outputs": [
    {
     "data": {
      "text/plain": [
       "5"
      ]
     },
     "metadata": {},
     "output_type": "display_data"
    }
   ],
   "source": [
    "findnext(x,5) do v\n",
    "  v ≤ 0.2 || v ≥ 0.8\n",
    "end"
   ]
  },
  {
   "cell_type": "code",
   "execution_count": 110,
   "metadata": {},
   "outputs": [
    {
     "data": {
      "text/plain": [
       "5"
      ]
     },
     "metadata": {},
     "output_type": "display_data"
    }
   ],
   "source": [
    "b = BitVector([0,0,1,0,1]);\n",
    "findlast(b)"
   ]
  },
  {
   "cell_type": "code",
   "execution_count": 111,
   "metadata": {},
   "outputs": [
    {
     "data": {
      "text/plain": [
       "3"
      ]
     },
     "metadata": {},
     "output_type": "display_data"
    }
   ],
   "source": [
    "findprev(b,4)"
   ]
  },
  {
   "cell_type": "code",
   "execution_count": 112,
   "metadata": {},
   "outputs": [
    {
     "data": {
      "text/plain": [
       "2×3 Matrix{Int64}:\n",
       " 3  1  4\n",
       " 5  9  3"
      ]
     },
     "metadata": {},
     "output_type": "display_data"
    }
   ],
   "source": [
    "M = [3 1 4 ; 5 9 3]\n",
    "println(findall(isodd,M))"
   ]
  },
  {
   "cell_type": "code",
   "execution_count": 116,
   "metadata": {},
   "outputs": [
    {
     "data": {
      "text/plain": [
       "CartesianIndex(2, 2)"
      ]
     },
     "metadata": {},
     "output_type": "display_data"
    }
   ],
   "source": [
    "println(argmax(M))\n",
    "println(argmax(M))"
   ]
  },
  {
   "cell_type": "code",
   "execution_count": null,
   "metadata": {},
   "outputs": [],
   "source": [
    "println(argmax(M))"
   ]
  }
 ],
 "metadata": {
  "kernelspec": {
   "display_name": "Julia 1.9.3",
   "language": "julia",
   "name": "julia-1.9"
  },
  "language_info": {
   "file_extension": ".jl",
   "mimetype": "application/julia",
   "name": "julia",
   "version": "1.9.3"
  }
 },
 "nbformat": 4,
 "nbformat_minor": 2
}
