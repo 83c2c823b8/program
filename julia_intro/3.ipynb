{
 "cells": [
  {
   "cell_type": "markdown",
   "metadata": {},
   "source": [
    "# 3-1便利な標準関数たち"
   ]
  },
  {
   "cell_type": "markdown",
   "metadata": {},
   "source": [
    "## 3-1-1演算系(1) 除算・剰余算系"
   ]
  },
  {
   "cell_type": "code",
   "execution_count": 169,
   "metadata": {},
   "outputs": [
    {
     "name": "stdout",
     "output_type": "stream",
     "text": [
      "2-2\n",
      "2-3\n",
      "3-3\n"
     ]
    }
   ],
   "source": [
    "println(div(5,2), div(-5,2))#切り捨て\n",
    "println(fld(5,2), fld(-5,2))#切り下げ　floor division\n",
    "println(cld(5,2), fld(-5,2))#切り上げ　ceiling division"
   ]
  },
  {
   "cell_type": "markdown",
   "metadata": {},
   "source": [
    "以下が表のマークダウン版です：\n",
    "\n",
    "| 丸めモード | 説明 | 備考 |\n",
    "|------------|------|------|\n",
    "| RoundToZero | 切り捨て | デフォルト (div(x, y, RoundToZero) == div(x, y)) |\n",
    "| RoundDown | 切り下げ | div(x, y, RoundDown) == fld(x, y) |\n",
    "| RoundUp | 切り上げ | div(x, y, RoundUp) == cld(x, y) |\n",
    "| RoundNearest | 最近接丸め（偶数） | x.5 の時は偶数 |\n",
    "| RoundNearestTiesAway | 最近接丸め（0から遠い方） | x.5 の時は四捨五入 |\n",
    "| RoundNearestTiesUp | 最近接丸め（切り上げ） | x.5 の時は切り上げ |\n"
   ]
  },
  {
   "cell_type": "code",
   "execution_count": 170,
   "metadata": {},
   "outputs": [
    {
     "data": {
      "text/plain": [
       "3"
      ]
     },
     "metadata": {},
     "output_type": "display_data"
    }
   ],
   "source": [
    "div(5,2,RoundNearestTiesAway)"
   ]
  },
  {
   "cell_type": "code",
   "execution_count": 171,
   "metadata": {},
   "outputs": [
    {
     "data": {
      "text/plain": [
       "-3"
      ]
     },
     "metadata": {},
     "output_type": "display_data"
    }
   ],
   "source": [
    "÷(-5,2,RoundDown)"
   ]
  },
  {
   "cell_type": "markdown",
   "metadata": {},
   "source": [
    "- %,rem 整数剰余算(切り捨て)\n",
    "- mod 整数剰余算(切り下げ)　"
   ]
  },
  {
   "cell_type": "code",
   "execution_count": 172,
   "metadata": {},
   "outputs": [
    {
     "data": {
      "text/plain": [
       "(3.0, 0.7)"
      ]
     },
     "metadata": {},
     "output_type": "display_data"
    }
   ],
   "source": [
    "divrem(4.3,1.2)"
   ]
  },
  {
   "cell_type": "code",
   "execution_count": 173,
   "metadata": {},
   "outputs": [
    {
     "data": {
      "text/plain": [
       "dayname (generic function with 1 method)"
      ]
     },
     "metadata": {},
     "output_type": "display_data"
    }
   ],
   "source": [
    "dayofweek(date) = mod1(days(date),7)\n",
    "days_of_week = [\"Monday\" , \"Tuesday\" , \"Wednesday\" , \"Thursday\", \"Friday\" ,\"Saturday\" ,\"Sunday\"]\n",
    "dayname(date) = days_of_week[dayofweek]"
   ]
  },
  {
   "cell_type": "code",
   "execution_count": 174,
   "metadata": {},
   "outputs": [
    {
     "data": {
      "text/plain": [
       "4.6017763138449626"
      ]
     },
     "metadata": {},
     "output_type": "display_data"
    }
   ],
   "source": [
    "mod(2+2π , 2pi)\n",
    "mod2pi(10)\n",
    "rem2pi(80,RoundDown)"
   ]
  },
  {
   "cell_type": "markdown",
   "metadata": {},
   "source": [
    "行列演算では有用らしい"
   ]
  },
  {
   "cell_type": "code",
   "execution_count": 175,
   "metadata": {},
   "outputs": [
    {
     "data": {
      "text/plain": [
       "1.5"
      ]
     },
     "metadata": {},
     "output_type": "display_data"
    }
   ],
   "source": [
    "2\\3"
   ]
  },
  {
   "cell_type": "markdown",
   "metadata": {},
   "source": [
    "### 積和演算\n",
    "x * y + z\n",
    "- fma() 精度優先\n",
    "- muladd() パフォーマンス優先"
   ]
  },
  {
   "cell_type": "code",
   "execution_count": 176,
   "metadata": {},
   "outputs": [
    {
     "data": {
      "text/plain": [
       "0.32"
      ]
     },
     "metadata": {},
     "output_type": "display_data"
    }
   ],
   "source": [
    "fma(0.1,0.2,0.3)\n",
    "muladd(0.1,0.2,0.3)"
   ]
  },
  {
   "cell_type": "markdown",
   "metadata": {},
   "source": [
    "### 剰余演算"
   ]
  },
  {
   "cell_type": "markdown",
   "metadata": {},
   "source": [
    "オーバーフローしないようになっている"
   ]
  },
  {
   "cell_type": "code",
   "execution_count": 177,
   "metadata": {},
   "outputs": [
    {
     "data": {
      "text/plain": [
       "5"
      ]
     },
     "metadata": {},
     "output_type": "display_data"
    }
   ],
   "source": [
    "powermod(5,2,20) # == mod(5^2,20)"
   ]
  },
  {
   "cell_type": "markdown",
   "metadata": {},
   "source": [
    "## 3-1-2 演算系(2)結合演算"
   ]
  },
  {
   "cell_type": "markdown",
   "metadata": {},
   "source": [
    "## 3-1-3演算系(3)その他の演算系関数\n",
    "\n",
    "| 関数       | 説明                                                 |\n",
    "|------------|------------------------------------------------------|\n",
    "| sign(x)    | 符号関数 1 (x > 0) / -1 (x < 0) / 0 (x == 0)          |\n",
    "| signbit(x) | 符号関数 true (x < 0) / false (x ≥ 0)                 |\n",
    "| cmp(x, y)  | 比較関数 1 (x > y) / -1 (x < y) / 0 (x == y)          |\n",
    "| abs(x)     | 絶対値関数                                           |\n",
    "| abs2(x)    | 絶対値の2乗を返す関数                                |\n",
    "| copysign(x, y) | xをabs(x)とy相当 (ただしy == 0のときはx)           |\n",
    "| flipsign(x, y) | x * sign(y) 相当 (ただしy == 0のときはx)          |\n",
    "| sqrt(x)    | 平方根関数 (演算子)                                  |\n",
    "| isqrt(x)   | 整数平方根関数                                       |\n",
    "| cbrt(x)    | 立方根関数 (演算子)                                  |"
   ]
  },
  {
   "cell_type": "markdown",
   "metadata": {},
   "source": [
    "\n",
    "| 関数 | 説明 |\n",
    "|------|------|\n",
    "| sin(x) | 三角関数: 正弦関数 (sin x) |\n",
    "| cos(x) | 三角関数: 余弦関数 (cos x) |\n",
    "| tan(x) | 三角関数: 正接関数 (tan x) |\n",
    "| asin(x) | 三角関数: 正弦関数の逆関数 (arcsin x) |\n",
    "| acos(x) | 三角関数: 余弦関数の逆関数 (arccos x) |\n",
    "| atan(x) | 三角関数: 正接関数の逆関数 (arctan x) |\n",
    "| atan(x, y) | 三角関数: 正接関数の逆関数 (arctan x/y) |\n",
    "| exp(x) | 指数関数 (eˣ) |\n",
    "| log(x) | 対数関数：自然対数 (log_e x または ln x) |\n",
    "| log(b, x) | 対数関数：底を b とする対数 (log_b x) |\n",
    "| sinh(x) | 双曲線関数正弦関数 (sinh x) |\n",
    "| cosh(x) | 双曲線関数余弦関数 (cosh x) |\n",
    "| tanh(x) | 双曲線関数正接関数 (tanh x) |\n",
    "| sec(x) | 三角関数: 正割関数 (sec x, 1/cos(x) 相当) |\n",
    "| csc(x) | 三角関数: 余割関数 (csc x, 1/sin(x) 相当) |\n",
    "| cot(x) | 三角関数: 余接関数 (cot x, 1/tan(x) 相当) |\n",
    "| asec(x) | 三角関数: 正割関数の逆関数 |\n",
    "| acsc(x) | 三角関数: 余割関数の逆関数 |\n",
    "| acot(x) | 三角関数: 余接関数の逆関数 |\n",
    "| logℯ(x) | 対数関数: 常用対数 (log₁₀x), log(10, x) 相当 |\n",
    "| log2(x) | 対数関数: 底を2とする対数 (log₂x), log(2, x) 相当 |\n",
    "| log1p(x) | 対数関数, log(x + 1) 相当 |\n",
    "| deg2rad(x) | 度→ラジアンの変換関数, π*x/180 相当 |\n",
    "| rad2deg(x) | ラジアン→度の変換関数, 180*x/π 相当 |\n",
    "| sind(x) | 三角関数: 正弦関数, sin(deg2rad(x)) 相当 |\n",
    "| cosd(x) | 三角関数: 余弦関数, cos(deg2rad(x)) 相当 |\n",
    "| tand(x) | 三角関数: 正接関数, tan(deg2rad(x)) 相当 |\n",
    "| asind(x) | 三角関数: 正弦関数の逆関数, rad2deg(asin(x)) 相当 |\n",
    "| acosd(x) | 三角関数: 余弦関数の逆関数, rad2deg(acos(x)) 相当 |\n",
    "| atand(x) | 三角関数: 正接関数の逆関数, rad2deg(atan(x)) 相当 |\n",
    "| secd(x) | 三角関数: 正割関数, sec(deg2rad(x)) 相当 |\n",
    "| cscd(x) | 三角関数: 余割関数, csc(deg2rad(x)) 相当 |\n",
    "| cotd(x) | 三角関数: 余接関数, cot(deg2rad(x)) 相当 |\n",
    "| asecd(x) | 三角関数: 正割関数の逆関数, rad2deg(asec(x)) 相当 |\n",
    "| acscd(x) | 三角関数: 余割関数の逆関数, rad2deg(acsc(x)) 相当 |\n",
    "| acotd(x) | 三角関数: 余接関数の逆関数, rad2deg(acot(x)) 相当 |\n",
    "| sinpi(x) | 三角関数: 正弦関数, sin(π*x) 相当 |\n",
    "| cospi(x) | 三角関数: 余弦関数, cos(π*x) 相当 |\n",
    "| tanpi(x) | 三角関数: 正接関数, tan(π*x) 相当 |\n",
    "| sincos(x) | (sin(x), cos(x)) 相当 |\n",
    "| sincospi(x) | (sinpi(x), cospi(x)) 相当 |\n",
    "| sinc(x) | カーディナルサイン関数 : sin(π*x)/(π*x) 相当 |\n",
    "| cosc(x) | sinc(x) の導関数 |\n",
    "| cis(x) | 指数関数, exp(x*im) 相当 |\n",
    "| cispi(x) | 指数関数, cis(π*x) 相当 |"
   ]
  },
  {
   "cell_type": "markdown",
   "metadata": {},
   "source": [
    "## 3-1-5 数学系(2) その他の数学関数\n",
    "| 関数 | 説明 |\n",
    "|------|------|\n",
    "| factorial(n) | 階乗 (n!) |\n",
    "| binomial(n, m) | 二項係数 (ₙCₘ) |\n",
    "| gcd(a, b...) | 最大公約数 (引数可変個) |\n",
    "| lcm(a, b...) | 最小公倍数 (引数可変個) |\n",
    "| gcdx(a, b) | 最大公約数+ベズー係数 (戻り値は3値タプル) |"
   ]
  },
  {
   "cell_type": "markdown",
   "metadata": {},
   "source": [
    "## 3-1-6文字・文字列情報取得関数"
   ]
  },
  {
   "cell_type": "markdown",
   "metadata": {},
   "source": [
    "### 文字・文字列情報取得関数・演算子\n",
    "| 関数・演算子 | 説明 | 例 |\n",
    "|-------------|------|-----|\n",
    "| length(s) | 文字列長 | length(\"123ABCあいう漢字\") == 11 |\n",
    "| sizeof(s) | 文字列のバイト長 | sizeof(\"123ABCあいう漢字\") == 21 (※1) |\n",
    "| ncodeunits(s) | 文字列のコードユニット数 | ncodeunits(\"123ABCあいう漢字\") == 21 (※1) |\n",
    "| isempty(s) | 空文字列判定 | isempty(\"\") == true |\n",
    "| codepoint(c) | 文字のユニコードコードポイント | codepoint('A') == 0x00000041, codepoint('あ') == 0x00003042 |\n",
    "| codeunits(s) | 文字列のコードユニット列 | codeunits(\"ABC漢字\") == UInt8[0x41, 0x42, 0x43, 0xe6, 0xbc, 0xa2, 0xe5, 0xad, 0x97] |\n",
    "| codeunits(s, i) | 文字列の指定位置のコードユニット値 | codeunits(s)[i] 相当 |\n",
    "| s[i] | インデクシング | \"ABCDE\"[4] == 'D', \"ABCDE\"[2:4] == \"BCD\" |\n",
    "| @view s[i] | 部分文字列抽出 | @view \"ABCDE\"[2:4] == SubString(\"ABCDE\", 2, 4) == \"BCD\" |\n",
    "| first(s) | 文字列の最初の文字 | first(\"ABCDE\") == 'A', first(\"あいうえお\") == 'あ' |\n",
    "| first(s, n) | 文字列の最初のn文字を抽出 | first(\"ABCDE\", 1) == \"A\", first(\"あいうえお\", 3) == \"あいう\" |\n",
    "| last(s) | 文字列の末尾の文字 | last(\"ABCDE\") == 'E', last(\"あいうえお\") == 'お' |\n",
    "| last(s, n) | 文字列の末尾のn文字を抽出 | last(\"ABCDE\", 1) == \"E\", last(\"あいうえお\", 3) == \"うえお\" |\n",
    "| firstindex(s) | 文字列の最初のインデックス | firstindex(\"ABC\") == 1, firstindex(\"あいう\") == 1 |\n",
    "| lastindex(s) | 文字列の最後のインデックス | lastindex(\"ABC\") == 3, lastindex(\"あいう\") == 7 |\n",
    "| thisind(s, i) | i バイト目が属する文字のインデックス | thisind(\"ABC\", 3) == 3, thisind(\"あいう\", 3) == 1, thisind(\"あいう\", 4) == thisind(\"あいう\", 5) == 4 |\n",
    "| nextind(s, i) | i バイト目よりも後の最初の文字のインデックス | nextind(\"ABC\", 2) == 3, nextind(\"あいう\", 2) == 4, nextind(\"あいう\", 4) == nextind(\"あいう\", 5) == 7 |\n",
    "| prevind(s, i) | i バイト目よりも前の最後の文字のインデックス | prevind(\"ABC\", 2) == 1, prevind(\"あいう\", 7) == 4, prevind(\"あいう\", 4) == prevind(\"あいう\", 3) == 1 |\n",
    "| eachindex(s), keys(s) | 文字列のインデックスを列挙 | collect(eachindex(\"あいう\")) == collect(keys(\"あいう\")) == [1, 4, 7] |\n",
    "| textwidth(s) | 文字列の表示幅 | textwidth('A') == 1, textwidth('あ') == 2, textwidth(\"ABC\") == 3, textwidth(\"あいう\") == 6 |"
   ]
  },
  {
   "cell_type": "markdown",
   "metadata": {},
   "source": [
    "### 文字・文字列比較関数・演算子\n",
    "- == 等価演算子\n",
    "- != ,≠ 非等価演算子\n",
    "- < <= > >=\n",
    "- cmp 辞書式大小比較\n",
    "- c in S \\in \\notin"
   ]
  },
  {
   "cell_type": "markdown",
   "metadata": {
    "tags": []
   },
   "source": [
    "### 文字列操作関数・演算子\n",
    "- string(v..) 文字列化関数\n",
    "- s*t 文字列連結\n",
    "- s^n , repeat(s,n) 文字列リピート\n",
    "- uppercase(s) 小文字を大文字に変換\n",
    "- lowercase(s) 大文字を小文字に変換\n",
    "- uppercasefirst(s) 文字列の最初の文字を大文字に変換\n",
    "- lowercasefirst(s)\n",
    "- titlecase(s) 文字列の最初の文字を大文字に，それ以外を小文字に\n",
    "- join(collection ,delim)コレクションの各要素をdelimで連結した文字列を生成\n",
    "- chop(s) 文字列の末尾の文字除去\n",
    "- chomp(s) 文字列末尾の改行文字除去\n",
    "- split(s) rsplit(s) ホワイトスペースによる文字列分割\n",
    "- split(s,pattern) rsplit(s,pattern) patternによる文字列分割\n",
    "- strip(s) lstrip(s) rstrip(s) 文字列の先頭，末尾のホワイトスペースの除去\n",
    "- strip(s,chars),lstrip(s,chars),rstrip(s,chars) 文字列の先頭/末尾の特定文字の除去\n",
    "- strip(fn,s),lstrip(fn,s),rstrip(fn,s) 文字列の先頭/末尾の特定文字の除去\n",
    "- lpad(s,l.pad=' '),rpad(s,l,pad=' ') 文字列の行埋め\n",
    "- reverse() 文字列反転"
   ]
  },
  {
   "cell_type": "markdown",
   "metadata": {},
   "source": [
    "### 文字列検索･置換関連関数\n",
    "- match(r::Regex, s) 正規表現マッチ\n",
    "- each(r::Regex, s) 正規表現マッチイテレーション\n",
    "- findfirst(pattern .s,) パターン検索(先頭から)\n",
    "- findnext(patten,s,i) パターン検索(iバイト目以降)\n",
    "- findlast(ptnstr,s) 文字列検索(末尾から)\n",
    "- findprev(prnstr, s, i)文字列検索(iバイト目以前)\n",
    "- findall(pattern,s) パターン検索\n",
    "- count(patten,s) パターン検索(件数)\n",
    "- occursin(patten,s) パターンが含まれるか否か\n",
    "- contains(s,pattern) 同上\n",
    "- startswith(s,pattern) パターンで始まるか否か\n",
    "- endswith(s,pattern) パターンで終わるか否か\n",
    "- replace(s,patten=>subst) 文字列置換"
   ]
  },
  {
   "cell_type": "markdown",
   "metadata": {},
   "source": [
    "### Julia の正規表現\n",
    "- ^ 先頭 \n",
    "- | 代替\n",
    "- . 任意の1文字\n",
    "- * 直前のパターンの0回以上の繰り返し\n",
    "- + 直前のパターンの1回以上の繰り返し\n",
    "- {n,m} 直前のパターンのn回以上m回以下の繰り返し {n} n回の繰り返し\n",
    "- [a-z] 文字クラス\n",
    "- \\s ホワイトスペース\n",
    "- \\d 数字\n",
    "- \\w 単語構成文字\n",
    "- (...) キャプチャグループ\n",
    "- (?<name>...) 名前付きキャプチャグループ"
   ]
  },
  {
   "cell_type": "markdown",
   "metadata": {},
   "source": [
    "#### 正規表現のモードフラグ\n",
    "- i 大文字小文字区別しない\n",
    "- m 複数行モード\n",
    "- s 任意の1文字が改行にもマッチ\n",
    "- a ASCIIモード\n",
    "- x コメントモード"
   ]
  },
  {
   "cell_type": "code",
   "execution_count": 178,
   "metadata": {},
   "outputs": [
    {
     "data": {
      "text/plain": [
       "\"123\""
      ]
     },
     "metadata": {},
     "output_type": "display_data"
    }
   ],
   "source": [
    "m = match(r\"\\d+\",\"123dfaisfjhaklj54\") \n",
    "m.match"
   ]
  },
  {
   "cell_type": "code",
   "execution_count": 179,
   "metadata": {},
   "outputs": [
    {
     "data": {
      "text/plain": [
       "\"123ABC\""
      ]
     },
     "metadata": {},
     "output_type": "display_data"
    }
   ],
   "source": [
    "m = match(r\"(\\d+)(?<ABC>[ABC]+)\",\"123ABCdfaisfABCjhaklj54\") \n",
    "m.match"
   ]
  },
  {
   "cell_type": "code",
   "execution_count": 180,
   "metadata": {},
   "outputs": [
    {
     "name": "stdout",
     "output_type": "stream",
     "text": [
      "Yes\n",
      "I\n",
      "have\n",
      "a\n",
      "number\n"
     ]
    }
   ],
   "source": [
    "for m in eachmatch(r\"\\w+\",\"Yes, I have a number.\")\n",
    "  println(m.match)\n",
    "end"
   ]
  },
  {
   "cell_type": "markdown",
   "metadata": {},
   "source": [
    "- \\0 マッチした部分文字列 m.match\n",
    "- \\1 \\2 キャプチャグループ\n",
    "- \\g<1> \n",
    "- \\g < name >"
   ]
  },
  {
   "cell_type": "code",
   "execution_count": 181,
   "metadata": {},
   "outputs": [
    {
     "data": {
      "text/plain": [
       "\"112233ABCあいう漢字\""
      ]
     },
     "metadata": {},
     "output_type": "display_data"
    }
   ],
   "source": [
    "replace(\"123ABCあいう漢字\",r\"\\d\"=> s\"\\0\\0\")"
   ]
  },
  {
   "cell_type": "code",
   "execution_count": 182,
   "metadata": {},
   "outputs": [
    {
     "data": {
      "text/plain": [
       "\"112131ABCあいう漢字\""
      ]
     },
     "metadata": {},
     "output_type": "display_data"
    }
   ],
   "source": [
    "replace(\"123ABCあいう漢字\",r\"\\d\"=> s\"\\g<0>1\")"
   ]
  },
  {
   "cell_type": "code",
   "execution_count": 183,
   "metadata": {},
   "outputs": [
    {
     "data": {
      "text/plain": [
       "\"ABC123あいう漢字\""
      ]
     },
     "metadata": {},
     "output_type": "display_data"
    }
   ],
   "source": [
    "replace(\"123ABCあいう漢字\",r\"(\\d+)(?<abc>[a-z]+)\"ia=>s\"\\g<abc>\\1\")"
   ]
  },
  {
   "cell_type": "markdown",
   "metadata": {},
   "source": [
    "- length\n",
    "- isempty\n",
    "- in A \n",
    "- eltype\n",
    "- ndims\n",
    "- size 配列のサイズ\n",
    "- axes インデックス範囲"
   ]
  },
  {
   "cell_type": "code",
   "execution_count": 184,
   "metadata": {},
   "outputs": [
    {
     "data": {
      "text/plain": [
       "3"
      ]
     },
     "metadata": {},
     "output_type": "display_data"
    }
   ],
   "source": [
    "A = [100z + 10y + x for x = 1:3 ,y = 1:4 , z= 1:2];\n",
    "ndims(A)"
   ]
  },
  {
   "cell_type": "code",
   "execution_count": 185,
   "metadata": {},
   "outputs": [
    {
     "data": {
      "text/plain": [
       "(3, 4, 2)"
      ]
     },
     "metadata": {},
     "output_type": "display_data"
    }
   ],
   "source": [
    "size(A)"
   ]
  },
  {
   "cell_type": "code",
   "execution_count": 186,
   "metadata": {},
   "outputs": [
    {
     "data": {
      "text/plain": [
       "(Base.OneTo(3), Base.OneTo(4), Base.OneTo(2))"
      ]
     },
     "metadata": {},
     "output_type": "display_data"
    }
   ],
   "source": [
    "axes(A)"
   ]
  },
  {
   "cell_type": "code",
   "execution_count": 187,
   "metadata": {},
   "outputs": [
    {
     "data": {
      "text/plain": [
       "Base.OneTo(4)"
      ]
     },
     "metadata": {},
     "output_type": "display_data"
    }
   ],
   "source": [
    "axes(A,2)"
   ]
  },
  {
   "cell_type": "code",
   "execution_count": 188,
   "metadata": {},
   "outputs": [
    {
     "name": "stdout",
     "output_type": "stream",
     "text": [
      "111\n",
      "211\n",
      "121\n",
      "221\n",
      "131\n",
      "231\n",
      "141\n",
      "241\n",
      "112\n",
      "212\n",
      "122\n",
      "222\n",
      "132\n",
      "232\n",
      "142\n",
      "242\n",
      "113\n",
      "213\n",
      "123\n",
      "223\n",
      "133\n",
      "233\n",
      "143\n",
      "243\n"
     ]
    }
   ],
   "source": [
    "for x in axes(A,1) ,y in axes(A,2) ,z in axes(A,3)\n",
    "  println(A[x,y,z])\n",
    "end"
   ]
  },
  {
   "cell_type": "markdown",
   "metadata": {},
   "source": [
    "## 3-1-7配列生成演算子"
   ]
  },
  {
   "cell_type": "code",
   "execution_count": 189,
   "metadata": {},
   "outputs": [
    {
     "data": {
      "text/plain": [
       "(Base.OneTo(3),)"
      ]
     },
     "metadata": {},
     "output_type": "display_data"
    }
   ],
   "source": [
    "axes((:a,:b,:c))"
   ]
  },
  {
   "cell_type": "code",
   "execution_count": 190,
   "metadata": {},
   "outputs": [
    {
     "data": {
      "text/plain": [
       "5-element Vector{Int64}:\n",
       "               1\n",
       "               3\n",
       " 128907801189840\n",
       " 128907801189904\n",
       " 128907785114368"
      ]
     },
     "metadata": {},
     "output_type": "display_data"
    }
   ],
   "source": [
    "Vector{Int}(undef,5)"
   ]
  },
  {
   "cell_type": "code",
   "execution_count": 191,
   "metadata": {},
   "outputs": [
    {
     "data": {
      "text/plain": [
       "2×2 Matrix{Float64}:\n",
       " 6.36889e-310  0.0\n",
       " 6.36889e-310  0.0"
      ]
     },
     "metadata": {},
     "output_type": "display_data"
    }
   ],
   "source": [
    "Matrix{Float64}(undef,2,2)"
   ]
  },
  {
   "cell_type": "code",
   "execution_count": 192,
   "metadata": {},
   "outputs": [
    {
     "data": {
      "text/plain": [
       "2×3×2 Array{UInt8, 3}:\n",
       "[:, :, 1] =\n",
       " 0x90  0xab  0x3d\n",
       " 0x57  0xb0  0x75\n",
       "\n",
       "[:, :, 2] =\n",
       " 0x00  0xe0  0xa9\n",
       " 0x00  0x83  0xae"
      ]
     },
     "metadata": {},
     "output_type": "display_data"
    }
   ],
   "source": [
    "Array{UInt8}(undef,2,3,2)"
   ]
  },
  {
   "cell_type": "code",
   "execution_count": 193,
   "metadata": {},
   "outputs": [
    {
     "data": {
      "text/plain": [
       "5-element Vector{Int64}:\n",
       " 0\n",
       " 0\n",
       " 0\n",
       " 0\n",
       " 0"
      ]
     },
     "metadata": {},
     "output_type": "display_data"
    }
   ],
   "source": [
    "zeros(Int,5)"
   ]
  },
  {
   "cell_type": "code",
   "execution_count": 194,
   "metadata": {},
   "outputs": [
    {
     "data": {
      "text/plain": [
       "2×2 Matrix{Float64}:\n",
       " 1.0  1.0\n",
       " 1.0  1.0"
      ]
     },
     "metadata": {},
     "output_type": "display_data"
    }
   ],
   "source": [
    "ones(2,2)"
   ]
  },
  {
   "cell_type": "code",
   "execution_count": 195,
   "metadata": {},
   "outputs": [
    {
     "data": {
      "text/plain": [
       "2×2 Matrix{UInt8}:\n",
       " 0x7f  0x7f\n",
       " 0x7f  0x7f"
      ]
     },
     "metadata": {},
     "output_type": "display_data"
    }
   ],
   "source": [
    "fill(0x7f,2,2)"
   ]
  },
  {
   "cell_type": "code",
   "execution_count": 196,
   "metadata": {},
   "outputs": [
    {
     "data": {
      "text/plain": [
       "12×13 BitMatrix:\n",
       " 0  0  1  1  0  0  0  0  1  1  0  0  0\n",
       " 0  0  0  1  0  0  1  1  0  1  0  0  0\n",
       " 0  0  1  0  0  0  0  1  1  1  0  0  0\n",
       " 0  0  0  0  0  0  0  1  1  0  0  0  0\n",
       " 1  0  1  1  0  0  0  1  1  0  0  0  0\n",
       " 0  0  1  0  0  0  1  0  1  0  0  0  0\n",
       " 1  0  1  1  0  0  0  1  0  0  0  0  0\n",
       " 1  0  1  0  0  0  0  0  0  0  0  0  0\n",
       " 1  0  1  1  0  1  0  1  1  0  0  0  0\n",
       " 1  1  0  1  0  0  0  1  0  0  0  0  0\n",
       " 0  1  1  1  0  1  0  1  1  0  0  0  0\n",
       " 1  1  1  0  0  0  0  1  0  0  0  0  0"
      ]
     },
     "metadata": {},
     "output_type": "display_data"
    }
   ],
   "source": [
    "BitArray(undef,12,13)"
   ]
  },
  {
   "cell_type": "code",
   "execution_count": 197,
   "metadata": {},
   "outputs": [
    {
     "data": {
      "text/plain": [
       "3×4×2 BitArray{3}:\n",
       "[:, :, 1] =\n",
       " 1  1  1  1\n",
       " 1  1  1  1\n",
       " 1  1  1  1\n",
       "\n",
       "[:, :, 2] =\n",
       " 1  1  1  1\n",
       " 1  1  1  1\n",
       " 1  1  1  1"
      ]
     },
     "metadata": {},
     "output_type": "display_data"
    }
   ],
   "source": [
    "trues(3,4,2)"
   ]
  },
  {
   "cell_type": "code",
   "execution_count": 198,
   "metadata": {},
   "outputs": [
    {
     "data": {
      "text/plain": [
       "BitVector\u001b[90m (alias for \u001b[39m\u001b[90mBitArray{1}\u001b[39m\u001b[90m)\u001b[39m"
      ]
     },
     "metadata": {},
     "output_type": "display_data"
    }
   ],
   "source": [
    "typeof(1:2:10 .== [2,33,34,12,30])"
   ]
  },
  {
   "cell_type": "code",
   "execution_count": 199,
   "metadata": {},
   "outputs": [
    {
     "data": {
      "text/plain": [
       "2×2 Matrix{UInt8}:\n",
       " 0x01  0x02\n",
       " 0x03  0x04"
      ]
     },
     "metadata": {},
     "output_type": "display_data"
    }
   ],
   "source": [
    "A = UInt8[1 2 ; 3 4]"
   ]
  },
  {
   "cell_type": "code",
   "execution_count": 200,
   "metadata": {},
   "outputs": [
    {
     "data": {
      "text/plain": [
       "3×4×2 Array{UInt8, 3}:\n",
       "[:, :, 1] =\n",
       " 0x08  0x00  0x00  0x2f\n",
       " 0x00  0x00  0x00  0x96\n",
       " 0x00  0x00  0xb0  0xec\n",
       "\n",
       "[:, :, 2] =\n",
       " 0x3d  0x00  0x96  0x75\n",
       " 0x75  0x00  0xec  0x00\n",
       " 0x00  0x0e  0x3d  0x00"
      ]
     },
     "metadata": {},
     "output_type": "display_data"
    }
   ],
   "source": [
    "similar(A,3,4,2)"
   ]
  },
  {
   "cell_type": "code",
   "execution_count": 201,
   "metadata": {},
   "outputs": [
    {
     "data": {
      "text/plain": [
       "2×2 Matrix{Float32}:\n",
       " -6.28507f32  -1.26196f-9\n",
       "  4.2057f-41   4.2057f-41"
      ]
     },
     "metadata": {},
     "output_type": "display_data"
    }
   ],
   "source": [
    "similar(A,Float32)"
   ]
  },
  {
   "cell_type": "code",
   "execution_count": 202,
   "metadata": {},
   "outputs": [
    {
     "data": {
      "text/plain": [
       "2×2 BitMatrix:\n",
       " 0  0\n",
       " 0  0"
      ]
     },
     "metadata": {},
     "output_type": "display_data"
    }
   ],
   "source": [
    "B = BitArray(undef,2,2)"
   ]
  },
  {
   "cell_type": "code",
   "execution_count": 203,
   "metadata": {},
   "outputs": [
    {
     "data": {
      "text/plain": [
       "10-element BitVector:\n",
       " 0\n",
       " 0\n",
       " 0\n",
       " 0\n",
       " 0\n",
       " 0\n",
       " 0\n",
       " 0\n",
       " 0\n",
       " 0"
      ]
     },
     "metadata": {},
     "output_type": "display_data"
    }
   ],
   "source": [
    "similar(B,10)"
   ]
  },
  {
   "cell_type": "code",
   "execution_count": 204,
   "metadata": {},
   "outputs": [
    {
     "data": {
      "text/plain": [
       "2-element Vector{Int64}:\n",
       " 1\n",
       " 1"
      ]
     },
     "metadata": {},
     "output_type": "display_data"
    }
   ],
   "source": [
    "A = [1 2 ;3 4];\n",
    "x = [-1 ; 1];\n",
    "y = A*x"
   ]
  },
  {
   "cell_type": "code",
   "execution_count": 205,
   "metadata": {},
   "outputs": [
    {
     "name": "stdout",
     "output_type": "stream",
     "text": [
      "[1 3; 2 4]\n",
      "[1 3; 2 4]\n",
      "[10 14; 14 20]\n",
      "ComplexF64[1.0 - 1.0im 22.16716829679195 + 1.0im; 2.0 + 3.0im 3.141592653589793 + 0.0im]\n",
      "ComplexF64[1.0 + 1.0im 22.16716829679195 - 1.0im; 2.0 - 3.0im 3.141592653589793 - 0.0im]\n"
     ]
    }
   ],
   "source": [
    "A = [1 2 ; 3 4];\n",
    "x = [-1 : 1];\n",
    "println(transpose(A))\n",
    "println(A')\n",
    "println(A'A)\n",
    "C = [1-1im 2 + 3im ; 3ℯ^2 + im  π]\n",
    "println(transpose(C))\n",
    "println(C')"
   ]
  },
  {
   "cell_type": "code",
   "execution_count": 206,
   "metadata": {},
   "outputs": [
    {
     "data": {
      "text/plain": [
       "4-element Vector{Int64}:\n",
       " 1\n",
       " 2\n",
       " 3\n",
       " 4"
      ]
     },
     "metadata": {},
     "output_type": "display_data"
    }
   ],
   "source": [
    "q = [1,2,3,4]"
   ]
  },
  {
   "cell_type": "code",
   "execution_count": 207,
   "metadata": {},
   "outputs": [
    {
     "data": {
      "text/plain": [
       "6-element Vector{Int64}:\n",
       "  1\n",
       "  2\n",
       "  3\n",
       "  4\n",
       " 12\n",
       " 32"
      ]
     },
     "metadata": {},
     "output_type": "display_data"
    }
   ],
   "source": [
    "push!(q,12,32)"
   ]
  },
  {
   "cell_type": "code",
   "execution_count": 208,
   "metadata": {},
   "outputs": [
    {
     "data": {
      "text/plain": [
       "32"
      ]
     },
     "metadata": {},
     "output_type": "display_data"
    }
   ],
   "source": [
    "pop!(q)"
   ]
  },
  {
   "cell_type": "code",
   "execution_count": 209,
   "metadata": {},
   "outputs": [
    {
     "data": {
      "text/plain": [
       "12"
      ]
     },
     "metadata": {},
     "output_type": "display_data"
    }
   ],
   "source": [
    "pop!(q)"
   ]
  },
  {
   "cell_type": "code",
   "execution_count": 210,
   "metadata": {},
   "outputs": [
    {
     "data": {
      "text/plain": [
       "4-element Vector{Int64}:\n",
       " 1\n",
       " 2\n",
       " 3\n",
       " 4"
      ]
     },
     "metadata": {},
     "output_type": "display_data"
    }
   ],
   "source": [
    "q"
   ]
  },
  {
   "cell_type": "code",
   "execution_count": 211,
   "metadata": {},
   "outputs": [
    {
     "data": {
      "text/plain": [
       "6-element Vector{Int64}:\n",
       " -2\n",
       " -1\n",
       "  1\n",
       "  2\n",
       "  3\n",
       "  4"
      ]
     },
     "metadata": {},
     "output_type": "display_data"
    }
   ],
   "source": [
    "pushfirst!(q,-2,-1)"
   ]
  },
  {
   "cell_type": "code",
   "execution_count": 212,
   "metadata": {},
   "outputs": [
    {
     "data": {
      "text/plain": [
       "-2"
      ]
     },
     "metadata": {},
     "output_type": "display_data"
    }
   ],
   "source": [
    "popfirst!(q)"
   ]
  },
  {
   "cell_type": "code",
   "execution_count": 213,
   "metadata": {},
   "outputs": [
    {
     "data": {
      "text/plain": [
       "12-element Vector{Int64}:\n",
       " -2\n",
       " -1\n",
       "  0\n",
       " -1\n",
       "  1\n",
       "  2\n",
       "  3\n",
       "  4\n",
       "  6\n",
       "  7\n",
       "  8\n",
       "  9"
      ]
     },
     "metadata": {},
     "output_type": "display_data"
    }
   ],
   "source": [
    "prepend!(append!(q, 6:9),-2:0)"
   ]
  },
  {
   "cell_type": "code",
   "execution_count": 214,
   "metadata": {},
   "outputs": [
    {
     "data": {
      "text/plain": [
       "11-element Vector{Int64}:\n",
       " -2\n",
       " -1\n",
       "  0\n",
       "  1\n",
       "  2\n",
       "  3\n",
       "  4\n",
       "  6\n",
       "  7\n",
       "  8\n",
       "  9"
      ]
     },
     "metadata": {},
     "output_type": "display_data"
    }
   ],
   "source": [
    "popat!(q,4)\n",
    "q"
   ]
  },
  {
   "cell_type": "code",
   "execution_count": 215,
   "metadata": {},
   "outputs": [
    {
     "data": {
      "text/plain": [
       "9-element Vector{Int64}:\n",
       " -2\n",
       " -1\n",
       "  2\n",
       "  3\n",
       "  4\n",
       "  6\n",
       "  7\n",
       "  8\n",
       "  9"
      ]
     },
     "metadata": {},
     "output_type": "display_data"
    }
   ],
   "source": [
    "deleteat!(q,3:4)"
   ]
  },
  {
   "cell_type": "code",
   "execution_count": 216,
   "metadata": {},
   "outputs": [
    {
     "data": {
      "text/plain": [
       "8-element Vector{Int64}:\n",
       " -2\n",
       " -1\n",
       "  2\n",
       "  4\n",
       "  6\n",
       "  7\n",
       "  8\n",
       "  9"
      ]
     },
     "metadata": {},
     "output_type": "display_data"
    }
   ],
   "source": [
    "popat!(q,4,999)\n",
    "q"
   ]
  },
  {
   "cell_type": "code",
   "execution_count": 217,
   "metadata": {},
   "outputs": [
    {
     "name": "stdout",
     "output_type": "stream",
     "text": [
      "10\n",
      "[4 6]\n",
      "[3; 7;;]\n",
      "24\n",
      "4\n",
      "1\n"
     ]
    }
   ],
   "source": [
    "A = [1 2 ; 3 4]\n",
    "println(sum(A))\n",
    "println(sum(A,dims=1))\n",
    "println(sum(A,dims=2))\n",
    "println(prod(A))\n",
    "println(maximum(A))\n",
    "println(minimum(A))"
   ]
  },
  {
   "cell_type": "code",
   "execution_count": 218,
   "metadata": {},
   "outputs": [
    {
     "name": "stdout",
     "output_type": "stream",
     "text": [
      "[0.9021568061073044, 0.22130907944079514, 0.4374194301012395, 0.7153076929528496, 0.7861123140648587, 0.9766786466791769, 0.1639650402025633, 0.8264786985466525, 0.2904008986863704, 0.3518973525157739]\n"
     ]
    },
    {
     "data": {
      "text/plain": [
       "7-element Vector{Int64}:\n",
       "  1\n",
       "  3\n",
       "  4\n",
       "  5\n",
       "  6\n",
       "  8\n",
       " 10"
      ]
     },
     "metadata": {},
     "output_type": "display_data"
    }
   ],
   "source": [
    "x = rand(10)\n",
    "println(x)\n",
    "findall(>(0.3),x)"
   ]
  },
  {
   "cell_type": "code",
   "execution_count": 219,
   "metadata": {},
   "outputs": [
    {
     "data": {
      "text/plain": [
       "2"
      ]
     },
     "metadata": {},
     "output_type": "display_data"
    }
   ],
   "source": [
    "findfirst(<(0.7),x)"
   ]
  },
  {
   "cell_type": "code",
   "execution_count": 220,
   "metadata": {},
   "outputs": [
    {
     "data": {
      "text/plain": [
       "6"
      ]
     },
     "metadata": {},
     "output_type": "display_data"
    }
   ],
   "source": [
    "findnext(x,5) do v\n",
    "  v ≤ 0.2 || v ≥ 0.8\n",
    "end"
   ]
  },
  {
   "cell_type": "code",
   "execution_count": 221,
   "metadata": {},
   "outputs": [
    {
     "data": {
      "text/plain": [
       "5"
      ]
     },
     "metadata": {},
     "output_type": "display_data"
    }
   ],
   "source": [
    "b = BitVector([0,0,1,0,1]);\n",
    "findlast(b)"
   ]
  },
  {
   "cell_type": "code",
   "execution_count": 222,
   "metadata": {},
   "outputs": [
    {
     "data": {
      "text/plain": [
       "3"
      ]
     },
     "metadata": {},
     "output_type": "display_data"
    }
   ],
   "source": [
    "findprev(b,4)"
   ]
  },
  {
   "cell_type": "code",
   "execution_count": 223,
   "metadata": {},
   "outputs": [
    {
     "name": "stdout",
     "output_type": "stream",
     "text": [
      "CartesianIndex{2}[CartesianIndex(1, 1), CartesianIndex(2, 1), CartesianIndex(1, 2), CartesianIndex(2, 2), CartesianIndex(2, 3)]\n"
     ]
    }
   ],
   "source": [
    "M = [3 1 4 ; 5 9 3]\n",
    "println(findall(isodd,M))"
   ]
  },
  {
   "cell_type": "code",
   "execution_count": 224,
   "metadata": {},
   "outputs": [
    {
     "name": "stdout",
     "output_type": "stream",
     "text": [
      "CartesianIndex(2, 2)\n"
     ]
    }
   ],
   "source": [
    "println(argmax(M))"
   ]
  },
  {
   "cell_type": "markdown",
   "metadata": {},
   "source": [
    "### 辞書関連関数"
   ]
  },
  {
   "cell_type": "code",
   "execution_count": 225,
   "metadata": {},
   "outputs": [
    {
     "data": {
      "text/plain": [
       "Dict{Symbol, Int64} with 3 entries:\n",
       "  :a => 1\n",
       "  :b => 2\n",
       "  :c => 3"
      ]
     },
     "metadata": {},
     "output_type": "display_data"
    }
   ],
   "source": [
    "D = Dict(:a=>1, :b=>2, :c=>3)"
   ]
  },
  {
   "cell_type": "code",
   "execution_count": 226,
   "metadata": {},
   "outputs": [
    {
     "data": {
      "text/plain": [
       "Symbol"
      ]
     },
     "metadata": {},
     "output_type": "display_data"
    }
   ],
   "source": [
    "keytype(D)"
   ]
  },
  {
   "cell_type": "code",
   "execution_count": 227,
   "metadata": {},
   "outputs": [
    {
     "data": {
      "text/plain": [
       "Int64"
      ]
     },
     "metadata": {},
     "output_type": "display_data"
    }
   ],
   "source": [
    "valtype(D)"
   ]
  },
  {
   "cell_type": "code",
   "execution_count": 228,
   "metadata": {},
   "outputs": [
    {
     "data": {
      "text/plain": [
       "KeySet for a Dict{Symbol, Int64} with 3 entries. Keys:\n",
       "  :a\n",
       "  :b\n",
       "  :c"
      ]
     },
     "metadata": {},
     "output_type": "display_data"
    }
   ],
   "source": [
    "keys(D)"
   ]
  },
  {
   "cell_type": "code",
   "execution_count": 229,
   "metadata": {},
   "outputs": [
    {
     "data": {
      "text/plain": [
       "3-element Vector{Int64}:\n",
       " 1\n",
       " 2\n",
       " 3"
      ]
     },
     "metadata": {},
     "output_type": "display_data"
    }
   ],
   "source": [
    "collect(values(D))"
   ]
  },
  {
   "cell_type": "code",
   "execution_count": 230,
   "metadata": {},
   "outputs": [
    {
     "data": {
      "text/plain": [
       "true"
      ]
     },
     "metadata": {},
     "output_type": "display_data"
    }
   ],
   "source": [
    "haskey(D ,:a) # :a ∈ keys(D)に同じ "
   ]
  },
  {
   "cell_type": "code",
   "execution_count": 231,
   "metadata": {},
   "outputs": [
    {
     "data": {
      "text/plain": [
       "1"
      ]
     },
     "metadata": {},
     "output_type": "display_data"
    }
   ],
   "source": [
    "D[:a]"
   ]
  },
  {
   "cell_type": "markdown",
   "metadata": {},
   "source": [
    "get(D, key, default)"
   ]
  },
  {
   "cell_type": "code",
   "execution_count": 232,
   "metadata": {},
   "outputs": [
    {
     "data": {
      "text/plain": [
       "1"
      ]
     },
     "metadata": {},
     "output_type": "display_data"
    }
   ],
   "source": [
    "get(D,:a,-99)"
   ]
  },
  {
   "cell_type": "code",
   "execution_count": 233,
   "metadata": {},
   "outputs": [
    {
     "data": {
      "text/plain": [
       "-99"
      ]
     },
     "metadata": {},
     "output_type": "display_data"
    }
   ],
   "source": [
    "get(D,:d,-99)"
   ]
  },
  {
   "cell_type": "markdown",
   "metadata": {},
   "source": [
    " get!()はキーが存在しなかった場合にそのキーのエントリーとして登録"
   ]
  },
  {
   "cell_type": "code",
   "execution_count": 234,
   "metadata": {},
   "outputs": [
    {
     "data": {
      "text/plain": [
       "4"
      ]
     },
     "metadata": {},
     "output_type": "display_data"
    }
   ],
   "source": [
    "get!(D, :d, 4)\n",
    "D[:d]"
   ]
  },
  {
   "cell_type": "code",
   "execution_count": 235,
   "metadata": {},
   "outputs": [
    {
     "data": {
      "text/plain": [
       "Dict{Symbol, Int64} with 6 entries:\n",
       "  :a => 1\n",
       "  :b => 4\n",
       "  :f => 17\n",
       "  :d => 5\n",
       "  :e => 3\n",
       "  :c => 3"
      ]
     },
     "metadata": {},
     "output_type": "display_data"
    }
   ],
   "source": [
    "push!(D, :b=>4, :d=>5, :e=>3, :f=>17)"
   ]
  },
  {
   "cell_type": "code",
   "execution_count": 236,
   "metadata": {},
   "outputs": [
    {
     "data": {
      "text/plain": [
       "Dict{Symbol, Int64} with 5 entries:\n",
       "  :a => 1\n",
       "  :b => 4\n",
       "  :f => 17\n",
       "  :d => 5\n",
       "  :c => 3"
      ]
     },
     "metadata": {},
     "output_type": "display_data"
    }
   ],
   "source": [
    "delete!(D, :e)"
   ]
  },
  {
   "cell_type": "code",
   "execution_count": 237,
   "metadata": {},
   "outputs": [
    {
     "data": {
      "text/plain": [
       "Dict{Symbol, Int64} with 4 entries:\n",
       "  :b => 4\n",
       "  :f => 17\n",
       "  :d => 5\n",
       "  :c => 3"
      ]
     },
     "metadata": {},
     "output_type": "display_data"
    }
   ],
   "source": [
    "pop!(D, :a)\n",
    "D"
   ]
  },
  {
   "cell_type": "code",
   "execution_count": 238,
   "metadata": {},
   "outputs": [
    {
     "data": {
      "text/plain": [
       "-99"
      ]
     },
     "metadata": {},
     "output_type": "display_data"
    }
   ],
   "source": [
    "pop!(D, :a, -99)"
   ]
  },
  {
   "cell_type": "code",
   "execution_count": 239,
   "metadata": {},
   "outputs": [
    {
     "data": {
      "text/plain": [
       "Dict{Symbol, Int64} with 5 entries:\n",
       "  :a => 1\n",
       "  :b => 4\n",
       "  :f => 6\n",
       "  :d => 5\n",
       "  :c => 3"
      ]
     },
     "metadata": {},
     "output_type": "display_data"
    }
   ],
   "source": [
    "D1 = Dict(:a=>1, :b=>2, :c=>3);\n",
    "D2 = Dict(:b=>4, :d=>5, :f=>6);\n",
    "merge(D1,D2)"
   ]
  },
  {
   "cell_type": "code",
   "execution_count": 240,
   "metadata": {},
   "outputs": [
    {
     "data": {
      "text/plain": [
       "Dict{Symbol, Int64} with 5 entries:\n",
       "  :f => 6\n",
       "  :b => 2\n",
       "  :a => 1\n",
       "  :d => 5\n",
       "  :c => 3"
      ]
     },
     "metadata": {},
     "output_type": "display_data"
    }
   ],
   "source": [
    "merge(D2,D1)"
   ]
  },
  {
   "cell_type": "code",
   "execution_count": 241,
   "metadata": {},
   "outputs": [
    {
     "data": {
      "text/plain": [
       "Dict{Symbol, Int64} with 5 entries:\n",
       "  :a => 1\n",
       "  :b => 6\n",
       "  :f => 6\n",
       "  :d => 5\n",
       "  :c => 3"
      ]
     },
     "metadata": {},
     "output_type": "display_data"
    }
   ],
   "source": [
    "mergewith(+,D1,D2)"
   ]
  },
  {
   "cell_type": "code",
   "execution_count": 242,
   "metadata": {},
   "outputs": [
    {
     "data": {
      "text/plain": [
       "Dict{Symbol, Int64} with 5 entries:\n",
       "  :a => 1\n",
       "  :b => 204\n",
       "  :f => 6\n",
       "  :d => 5\n",
       "  :c => 3"
      ]
     },
     "metadata": {},
     "output_type": "display_data"
    }
   ],
   "source": [
    "mergewith(D1,D2) do a,b\n",
    "  100a + b\n",
    "end"
   ]
  },
  {
   "cell_type": "code",
   "execution_count": 243,
   "metadata": {},
   "outputs": [
    {
     "data": {
      "text/plain": [
       "Dict{Symbol, Int64} with 5 entries:\n",
       "  :a => 1\n",
       "  :b => 4\n",
       "  :f => 6\n",
       "  :d => 5\n",
       "  :c => 3"
      ]
     },
     "metadata": {},
     "output_type": "display_data"
    }
   ],
   "source": [
    "merge!(D1,D2) #D1が更新される\n",
    "D1"
   ]
  },
  {
   "cell_type": "code",
   "execution_count": 244,
   "metadata": {},
   "outputs": [
    {
     "data": {
      "text/plain": [
       "Dict{Symbol, Int64} with 5 entries:\n",
       "  :a => 1\n",
       "  :b => 0\n",
       "  :f => 0\n",
       "  :d => 0\n",
       "  :c => 3"
      ]
     },
     "metadata": {},
     "output_type": "display_data"
    }
   ],
   "source": [
    "mergewith!(-,D1,D2)"
   ]
  },
  {
   "cell_type": "markdown",
   "metadata": {},
   "source": [
    "### 集合関連関数・演算子"
   ]
  },
  {
   "cell_type": "code",
   "execution_count": 245,
   "metadata": {},
   "outputs": [],
   "source": [
    "S1 = Set([1,2,3]);\n",
    "S2 = Set([2,4,5]);"
   ]
  },
  {
   "cell_type": "code",
   "execution_count": 246,
   "metadata": {},
   "outputs": [
    {
     "data": {
      "text/plain": [
       "Set{Int64} with 1 element:\n",
       "  2"
      ]
     },
     "metadata": {},
     "output_type": "display_data"
    }
   ],
   "source": [
    "S1∩S2"
   ]
  },
  {
   "cell_type": "code",
   "execution_count": 247,
   "metadata": {},
   "outputs": [
    {
     "data": {
      "text/plain": [
       "Set{Int64} with 5 elements:\n",
       "  5\n",
       "  4\n",
       "  2\n",
       "  3\n",
       "  1"
      ]
     },
     "metadata": {},
     "output_type": "display_data"
    }
   ],
   "source": [
    "S1∪S2"
   ]
  },
  {
   "cell_type": "code",
   "execution_count": 248,
   "metadata": {},
   "outputs": [
    {
     "data": {
      "text/plain": [
       "Set{Int64} with 1 element:\n",
       "  2"
      ]
     },
     "metadata": {},
     "output_type": "display_data"
    }
   ],
   "source": [
    "S0 = Set(1:10);\n",
    "intersect!(S0,S1,S2) #S0が更新される"
   ]
  },
  {
   "cell_type": "code",
   "execution_count": 249,
   "metadata": {},
   "outputs": [
    {
     "data": {
      "text/plain": [
       "Set{Int64} with 5 elements:\n",
       "  5\n",
       "  4\n",
       "  2\n",
       "  3\n",
       "  1"
      ]
     },
     "metadata": {},
     "output_type": "display_data"
    }
   ],
   "source": [
    "union!(S0,S1,S2);\n",
    "S0"
   ]
  },
  {
   "cell_type": "code",
   "execution_count": 250,
   "metadata": {},
   "outputs": [
    {
     "data": {
      "text/plain": [
       "Set{Int64} with 2 elements:\n",
       "  3\n",
       "  1"
      ]
     },
     "metadata": {},
     "output_type": "display_data"
    }
   ],
   "source": [
    "setdiff(S1,S2) #S1\\S2"
   ]
  },
  {
   "cell_type": "code",
   "execution_count": 251,
   "metadata": {},
   "outputs": [
    {
     "data": {
      "text/plain": [
       "Set{Int64} with 5 elements:\n",
       "  6\n",
       "  7\n",
       "  10\n",
       "  9\n",
       "  8"
      ]
     },
     "metadata": {},
     "output_type": "display_data"
    }
   ],
   "source": [
    "S0 = Set(1:10)\n",
    "setdiff!(S0,S1,S2);\n",
    "S0"
   ]
  },
  {
   "cell_type": "code",
   "execution_count": 252,
   "metadata": {},
   "outputs": [
    {
     "data": {
      "text/plain": [
       "Set{Int64} with 4 elements:\n",
       "  5\n",
       "  4\n",
       "  3\n",
       "  1"
      ]
     },
     "metadata": {},
     "output_type": "display_data"
    }
   ],
   "source": [
    "symdiff(S1,S2) #S1 ◬ S2"
   ]
  },
  {
   "cell_type": "code",
   "execution_count": 253,
   "metadata": {},
   "outputs": [
    {
     "data": {
      "text/plain": [
       "Set{Int64} with 3 elements:\n",
       "  2\n",
       "  3\n",
       "  1"
      ]
     },
     "metadata": {},
     "output_type": "display_data"
    }
   ],
   "source": [
    "S = Set(Int[]);\n",
    "push!(S,1,2,3)"
   ]
  },
  {
   "cell_type": "code",
   "execution_count": 254,
   "metadata": {},
   "outputs": [
    {
     "data": {
      "text/plain": [
       "Set{Int64} with 2 elements:\n",
       "  2\n",
       "  3"
      ]
     },
     "metadata": {},
     "output_type": "display_data"
    }
   ],
   "source": [
    "delete!(S,1)"
   ]
  },
  {
   "cell_type": "code",
   "execution_count": 255,
   "metadata": {},
   "outputs": [
    {
     "data": {
      "text/plain": [
       "Set{Int64} with 2 elements:\n",
       "  2\n",
       "  3"
      ]
     },
     "metadata": {},
     "output_type": "display_data"
    }
   ],
   "source": [
    "delete!(S,100) #エラーにならない"
   ]
  },
  {
   "cell_type": "code",
   "execution_count": 256,
   "metadata": {},
   "outputs": [
    {
     "data": {
      "text/plain": [
       "2"
      ]
     },
     "metadata": {},
     "output_type": "display_data"
    }
   ],
   "source": [
    "push!(S,2);\n",
    "pop!(S,2)"
   ]
  },
  {
   "cell_type": "code",
   "execution_count": 257,
   "metadata": {},
   "outputs": [
    {
     "data": {
      "text/plain": [
       "-99"
      ]
     },
     "metadata": {},
     "output_type": "display_data"
    }
   ],
   "source": [
    "pop!(S,2,-99)"
   ]
  },
  {
   "cell_type": "markdown",
   "metadata": {},
   "source": [
    "### タプル・名前付きタプル関連関数"
   ]
  },
  {
   "cell_type": "code",
   "execution_count": 258,
   "metadata": {},
   "outputs": [
    {
     "data": {
      "text/plain": [
       "('a', 2, 99.9, π)"
      ]
     },
     "metadata": {},
     "output_type": "display_data"
    }
   ],
   "source": [
    "t = ('a', 2, 99.9, π)"
   ]
  },
  {
   "cell_type": "code",
   "execution_count": 259,
   "metadata": {},
   "outputs": [
    {
     "data": {
      "text/plain": [
       "'a': ASCII/Unicode U+0061 (category Ll: Letter, lowercase)"
      ]
     },
     "metadata": {},
     "output_type": "display_data"
    }
   ],
   "source": [
    "first(t)"
   ]
  },
  {
   "cell_type": "code",
   "execution_count": 260,
   "metadata": {},
   "outputs": [
    {
     "data": {
      "text/plain": [
       "π = 3.1415926535897..."
      ]
     },
     "metadata": {},
     "output_type": "display_data"
    }
   ],
   "source": [
    "last(t)"
   ]
  },
  {
   "cell_type": "code",
   "execution_count": 261,
   "metadata": {},
   "outputs": [
    {
     "data": {
      "text/plain": [
       "('a', 2, 99.9)"
      ]
     },
     "metadata": {},
     "output_type": "display_data"
    }
   ],
   "source": [
    "Base.front(t) #最初の要素以外からなるタプル"
   ]
  },
  {
   "cell_type": "code",
   "execution_count": 262,
   "metadata": {},
   "outputs": [
    {
     "data": {
      "text/plain": [
       "(2, 99.9, π)"
      ]
     },
     "metadata": {},
     "output_type": "display_data"
    }
   ],
   "source": [
    "Base.tail(t)"
   ]
  },
  {
   "cell_type": "code",
   "execution_count": 263,
   "metadata": {},
   "outputs": [
    {
     "data": {
      "text/plain": [
       "(:a, :b, :c, :π)"
      ]
     },
     "metadata": {},
     "output_type": "display_data"
    }
   ],
   "source": [
    "nt = (a=1, b=2, c=3, π);\n",
    "keys(nt)"
   ]
  },
  {
   "cell_type": "code",
   "execution_count": 264,
   "metadata": {},
   "outputs": [
    {
     "data": {
      "text/plain": [
       "(1, 2, 3, π)"
      ]
     },
     "metadata": {},
     "output_type": "display_data"
    }
   ],
   "source": [
    "values(nt)"
   ]
  },
  {
   "cell_type": "code",
   "execution_count": 265,
   "metadata": {},
   "outputs": [
    {
     "data": {
      "text/plain": [
       "true"
      ]
     },
     "metadata": {},
     "output_type": "display_data"
    }
   ],
   "source": [
    "haskey(nt,:a)"
   ]
  },
  {
   "cell_type": "code",
   "execution_count": 266,
   "metadata": {},
   "outputs": [
    {
     "data": {
      "text/plain": [
       "(a = 1, b = 1, c = 3, π = π, s = \"あいうえお\")"
      ]
     },
     "metadata": {},
     "output_type": "display_data"
    }
   ],
   "source": [
    "s = \"あいうえお\";\n",
    "merge(nt, (a=1,b=1,s))"
   ]
  },
  {
   "cell_type": "code",
   "execution_count": 267,
   "metadata": {},
   "outputs": [
    {
     "data": {
      "text/plain": [
       "(a = 1, b = 2, c = 3, π = π, d = 4, e = 5)"
      ]
     },
     "metadata": {},
     "output_type": "display_data"
    }
   ],
   "source": [
    "merge(nt, [:a=>1, :b=>2, :c=>3, :d=>4, :e=>5])"
   ]
  },
  {
   "cell_type": "markdown",
   "metadata": {},
   "source": [
    "## その他あると便利がある関数\n",
    "- max()\n",
    "- min()\n",
    "- minmax() #最大値と最小値\n",
    "- invmod(n,m) mを法としたnの逆数\n",
    "- clamp(x,lo,hi) lo $\\leq x \\leq$ hiとなるように$x$を調節\n",
    "- clamp(n, ::Type{T}) 型Tで表現できる範囲でclamp\n",
    "- clamp(A,lo,hi)\n",
    "- issorted(A) ソート済みかどうか\n",
    "- sort(A) ベクトルをソート\n",
    "- reverse(A)　配列を逆順に"
   ]
  },
  {
   "cell_type": "code",
   "execution_count": 268,
   "metadata": {},
   "outputs": [
    {
     "data": {
      "text/plain": [
       "1"
      ]
     },
     "metadata": {},
     "output_type": "display_data"
    }
   ],
   "source": [
    "+(1)"
   ]
  },
  {
   "cell_type": "code",
   "execution_count": 269,
   "metadata": {},
   "outputs": [
    {
     "data": {
      "text/plain": [
       "3"
      ]
     },
     "metadata": {},
     "output_type": "display_data"
    }
   ],
   "source": [
    "+(1,2)"
   ]
  },
  {
   "cell_type": "code",
   "execution_count": 270,
   "metadata": {},
   "outputs": [
    {
     "data": {
      "text/plain": [
       "6"
      ]
     },
     "metadata": {},
     "output_type": "display_data"
    }
   ],
   "source": [
    "+(1,2,3)"
   ]
  },
  {
   "cell_type": "code",
   "execution_count": 271,
   "metadata": {},
   "outputs": [
    {
     "data": {
      "text/plain": [
       "2"
      ]
     },
     "metadata": {},
     "output_type": "display_data"
    }
   ],
   "source": [
    "÷(5,2)"
   ]
  },
  {
   "cell_type": "code",
   "execution_count": 272,
   "metadata": {},
   "outputs": [
    {
     "data": {
      "text/plain": [
       "2"
      ]
     },
     "metadata": {},
     "output_type": "display_data"
    }
   ],
   "source": [
    "÷(5,2,RoundDown)"
   ]
  },
  {
   "cell_type": "code",
   "execution_count": 273,
   "metadata": {},
   "outputs": [
    {
     "data": {
      "text/plain": [
       "3"
      ]
     },
     "metadata": {},
     "output_type": "display_data"
    }
   ],
   "source": [
    "÷(5,2,RoundUp)"
   ]
  },
  {
   "cell_type": "code",
   "execution_count": 274,
   "metadata": {},
   "outputs": [
    {
     "data": {
      "text/plain": [
       "2"
      ]
     },
     "metadata": {},
     "output_type": "display_data"
    }
   ],
   "source": [
    "÷(5,2,RoundNearest)"
   ]
  },
  {
   "cell_type": "code",
   "execution_count": 275,
   "metadata": {},
   "outputs": [
    {
     "data": {
      "text/plain": [
       "3"
      ]
     },
     "metadata": {},
     "output_type": "display_data"
    }
   ],
   "source": [
    "÷(5,2,RoundNearestTiesUp)"
   ]
  },
  {
   "cell_type": "code",
   "execution_count": 277,
   "metadata": {},
   "outputs": [
    {
     "data": {
      "text/plain": [
       "1.0e-10"
      ]
     },
     "metadata": {},
     "output_type": "display_data"
    }
   ],
   "source": [
    "v = 1.0e-10"
   ]
  },
  {
   "cell_type": "code",
   "execution_count": 278,
   "metadata": {},
   "outputs": [
    {
     "data": {
      "text/plain": [
       "false"
      ]
     },
     "metadata": {},
     "output_type": "display_data"
    }
   ],
   "source": [
    "v ≈ 0"
   ]
  },
  {
   "cell_type": "code",
   "execution_count": 279,
   "metadata": {},
   "outputs": [
    {
     "data": {
      "text/plain": [
       "true"
      ]
     },
     "metadata": {},
     "output_type": "display_data"
    }
   ],
   "source": [
    "≈(v, 0.0, atol=1e-8)"
   ]
  },
  {
   "cell_type": "markdown",
   "metadata": {},
   "source": [
    "- ==(y) \n",
    "- !=(y), $\\neq$(y)\n",
    "- <(y)\n",
    "- <=(y) $\\leq$(y)\n",
    "- \\>(y)\n",
    "- \\>=(y) $\\geq$(y)\n",
    "- in(A), $\\in$(A)\n",
    "- $\\notin$(A)\n",
    "- $\\ni$(y)\n",
    "- $\\notni$(y)\n",
    "- $\\approx$(y)\n",
    "- $\\not\\approx$(y)"
   ]
  },
  {
   "cell_type": "code",
   "execution_count": 280,
   "metadata": {},
   "outputs": [
    {
     "data": {
      "text/plain": [
       "true"
      ]
     },
     "metadata": {},
     "output_type": "display_data"
    }
   ],
   "source": [
    "is1to10 = ∈(1:10);\n",
    "is1to10(3)"
   ]
  },
  {
   "cell_type": "code",
   "execution_count": 281,
   "metadata": {},
   "outputs": [
    {
     "data": {
      "text/plain": [
       "false"
      ]
     },
     "metadata": {},
     "output_type": "display_data"
    }
   ],
   "source": [
    "is1to10(12)"
   ]
  },
  {
   "cell_type": "markdown",
   "metadata": {},
   "source": [
    "# 3-2標準ライブラリ"
   ]
  },
  {
   "cell_type": "markdown",
   "metadata": {},
   "source": [
    "\n",
    "| パッケージ | 概要 |\n",
    "|------------|------|\n",
    "| Artifacts | パッケージとは別のデータコンテナ（=アーティファクト）の管理 |\n",
    "| Base64 | Base64エンコード/デコード機能 |\n",
    "| CRC32c | CRC-32c チェックサム計算機能 |\n",
    "| Dates | 日時計算ライブラリ |\n",
    "| DelimitedFiles | CSV (TSV含む) 形式読み書きの基本機能ライブラリ |\n",
    "| Distributed | 分散処理ライブラリ |\n",
    "| Downloads | ファイルダウンロード処理ライブラリ |\n",
    "| FileWatching | ファイル/ディレクトリ監視機能 |\n",
    "| Future | 既存機能（関数）の将来実装を提供するパッケージ |\n",
    "| InteractiveUtils | インタラクティブモード（REPL、JupyterNotebook等）で提供される機能 |\n",
    "| LazyArtifacts | アーティファクト遅延ダウンロードのための依存パッケージ |\n",
    "| LibGit2 | libgit2 バインディングライブラリ |\n",
    "| Libdl | 共有ライブラリロード機能 |\n",
    "| LinearAlgebra | 線型代数計算ライブラリ |\n",
    "| Logging | ロギングライブラリ |\n",
    "| Markdown | マークダウンライブラリ |\n",
    "| Mmap | メモリマップファイルI/Oライブラリ |\n",
    "| Pkg | Juliaのパッケージ管理機能（第10章参照） |\n",
    "| Printf | 書式化出力ライブラリ |\n",
    "| Profile | プロファイリング機能 |\n",
    "| REPL | REPL機能 |\n",
    "| Random | 乱数関連ライブラリ |\n",
    "| SHA | SHAハッシュエンコードライブラリ |\n",
    "| Serialization | シリアル化ライブラリ |\n",
    "| SharedArrays | プロセス間メモリ共有ライブラリ |\n",
    "| Sockets | ネットワークソケットライブラリ |\n",
    "| SparseArrays | 疎行列（疎配列）基本ライブラリ |\n",
    "| Statistics | 統計計算ライブラリ |\n",
    "| SuiteSparse | 疎行列の線型代数計算ライブラリ |\n",
    "| TOML | TOML解析/出力処理ライブラリ |\n",
    "| Test | ユニットテストライブラリ |\n",
    "| UUIDs | UUID生成機能 |\n",
    "| Unicode | Unicode処理機能 |"
   ]
  },
  {
   "cell_type": "markdown",
   "metadata": {},
   "source": [
    "## 3-2-1 Printf"
   ]
  },
  {
   "cell_type": "markdown",
   "metadata": {},
   "source": [
    "| 関数・マクロ名 | 説明 | 備考 |\n",
    "|----------------|------|------|\n",
    "| @printf(\"《書式文字列》\", ...) | 書式化文字列出力マクロ | 出力先は標準出力 |\n",
    "| @printf(io, \"《書式文字列》\", ...) | 書式化文字列出力マクロ | 第1引数の IO オブジェクトに出力 |\n",
    "| @sprintf(\"《書式文字列》\", ...) | 書式化文字列生成マクロ | 結果は文字列 |\n",
    "| Printf.format(\"《書式文字列》\") | 書式化文字列リテラル | |\n",
    "| Printf.Format(\"《書式文字列》\") | 書式文字列コンストラクタ | |\n",
    "| Printf.format(format::Printf.Format, ...) | 書式化文字列生成 | 戻り値は文字列 |\n",
    "| Printf.format(io, format::Printf.Format, ...) | 書式化文字列出力 | 第1引数の IO オブジェクトに出力 |"
   ]
  },
  {
   "cell_type": "code",
   "execution_count": 10,
   "metadata": {},
   "outputs": [
    {
     "name": "stdout",
     "output_type": "stream",
     "text": [
      "23"
     ]
    }
   ],
   "source": [
    "using Printf\n",
    "x = 23.4348975\n",
    "@printf(\"%d\",x)"
   ]
  },
  {
   "cell_type": "code",
   "execution_count": 13,
   "metadata": {},
   "outputs": [
    {
     "name": "stdout",
     "output_type": "stream",
     "text": [
      "23.43"
     ]
    }
   ],
   "source": [
    "@printf(\"%.2f\",x) #小数点2桁"
   ]
  },
  {
   "cell_type": "code",
   "execution_count": 16,
   "metadata": {},
   "outputs": [
    {
     "name": "stdout",
     "output_type": "stream",
     "text": [
      "23.4348975"
     ]
    }
   ],
   "source": [
    "@printf(\"%.10g\",x) #小数点以外で10桁 ただし非表示"
   ]
  },
  {
   "cell_type": "code",
   "execution_count": 18,
   "metadata": {},
   "outputs": [
    {
     "name": "stderr",
     "output_type": "stream",
     "text": [
      "23"
     ]
    }
   ],
   "source": [
    "@printf(stderr,\"%d\",x) #標準エラー出力に出力"
   ]
  },
  {
   "cell_type": "markdown",
   "metadata": {},
   "source": [
    "ファイルに出力"
   ]
  },
  {
   "cell_type": "code",
   "execution_count": 20,
   "metadata": {},
   "outputs": [],
   "source": [
    "open(\"sampleout.txt\",\"w\") do f\n",
    "  @printf(f,\"%d\",x)\n",
    "end"
   ]
  },
  {
   "cell_type": "markdown",
   "metadata": {},
   "source": [
    "## 3-2-2 Dates"
   ]
  },
  {
   "cell_type": "markdown",
   "metadata": {},
   "source": [
    "| 関数・演算子 | 説明 | 備考 |\n",
    "|-------------|------|------|\n",
    "| now() | 現在日時の取得 | 戻り値は DateTime 型 |\n",
    "| Year(n) | 年間 | 例：Year(1) |\n",
    "| Quarter(n) | 四半期 | 例：Quarter(2) |\n",
    "| Month(n) | 期間：n か月 | 例：Month(3) |\n",
    "| Week(n) | 期間：n 週間 | 例：Week(4) |\n",
    "| Day(n) | 期間：n 日 | 例：Day(5) |\n",
    "| Hour(n) | 期間：n 時間 | 例：Hour(6) |\n",
    "| Minute(n) | 期間：n 分 | 例：Minute(7) |\n",
    "| Second(n) | 期間：n 秒 | 例：Second(8) |\n",
    "| Millisecond(n) | 期間：n ミリ秒 | 例：Millisecond(9) |\n",
    "| Microsecond(n) | 期間：n マイクロ秒 | 例：Microsecond(999) |\n",
    "| Nanosecond(n) | 期間：n ナノ秒 | 例：Nanosecond(999) |\n",
    "| dt + period, dt + period | 日付の加算 | dt は Date, period は Year~Day, 戻り値は Date |\n",
    "| tm + period, tm + period | 時刻の加算 | tm は Time, period は Hour~Nanosecond, 戻り値は Time |\n",
    "| dtm + period, dtm + period | 日時の加算 | dtm は DateTime, period は Year~ Millisecond, 戻り値は DateTime |\n",
    "| dt1 - dt2 | 日付の差 | dt1, dt2 は Date, 戻り値は Day |\n",
    "| tm1 - tm2 | 時刻の差 | tm1, tm2 は Time, 戻り値は Nanosecond |\n",
    "| dtm1 - dtm2 | 日時の差 | dtm1, dtm2 は DateTime, 戻り値は Millisecond |\n",
    "| dt1:period:dt2 | 日付の範囲 | dt1, dt2 は Date, period (ステップ幅) は Year ~Day |\n",
    "| tm1:period:tm2 | 時刻の範囲 | tm1, tm2 は Time, period (ステップ幅) は Hour ~Nanosecond |\n",
    "| dtm1:period:dtm2 | 日時の範囲 | dtm1, dtm2 は DateTime, period (ステップ幅) は Year~Millisecond |\n",
    "| dateformat(\"文字列\") | 日付書式化文字列定義 | 例：dateformat(\"yyyy/mm/dd HH:MM:SS\") |\n",
    "| Dates.format(dts, dateformat(\"~\")) | 日時書式化文字列変換 | dts は Date/Time/DateTime |\n",
    "| Date(\"日付文字列\", dateformat(\"~\")) | 日付文字列の解析 | 例：Date(\"2017/9/5\", dateformat(\"yyyy/mm/dd\")) # 2017-09-05, Date型 |\n",
    "| Time(\"時刻文字列\", dateformat(\"~\")) | 時刻文字列の解析 | 例：Time(\"20:52:10\", dateformat(\"HH:MM:SS\")) # 20:52:10, Time型 |\n",
    "| DateTime(\"日時文字列\", dateformat(\"~\")) | 日時文字列の解析 | 例：DateTime(\"2020-02-03T23:59:53.012\", dateformat(\"yyyy-mm-ddTHH:MM:SS.sss\")) # 2020-02-03T23:59:53.012, DateTime型 |\n",
    "| isleapyear(dt) | 閏年かどうか | 例：isleapyear(Date(2000)) == true |\n",
    "| monthname(dt) | 月名（英語） | 例：monthname(Date(2000, 1, 1)) == \"January\" |\n",
    "| dayname(dt) | 曜日（英語） | 例：dayname(Date(2000, 1, 1)) == \"Saturday\" |"
   ]
  }
 ],
 "metadata": {
  "kernelspec": {
   "display_name": "Julia 1.10.4",
   "language": "julia",
   "name": "julia-1.10"
  },
  "language_info": {
   "file_extension": ".jl",
   "mimetype": "application/julia",
   "name": "julia",
   "version": "1.10.4"
  }
 },
 "nbformat": 4,
 "nbformat_minor": 2
}
