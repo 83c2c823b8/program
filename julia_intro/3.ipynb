{
 "cells": [
  {
   "cell_type": "markdown",
   "metadata": {},
   "source": [
    "# 便利な標準関数たち"
   ]
  },
  {
   "cell_type": "markdown",
   "metadata": {},
   "source": [
    "## 演算系"
   ]
  },
  {
   "cell_type": "code",
   "execution_count": 4,
   "metadata": {},
   "outputs": [
    {
     "name": "stdout",
     "output_type": "stream",
     "text": [
      "2-2\n",
      "2-3\n",
      "3-3\n"
     ]
    }
   ],
   "source": [
    "println(div(5,2), div(-5,2))#切り捨て\n",
    "println(fld(5,2), fld(-5,2))#切り下げ　floor division\n",
    "println(cld(5,2), fld(-5,2))#切り上げ　ceiling division"
   ]
  },
  {
   "cell_type": "markdown",
   "metadata": {},
   "source": [
    "- RoundToZero 切り捨て\n",
    "- RoundDonw 切り下げ\n",
    "- RoundUp 切り上げ\n",
    "- RoundNearest 最近接丸め(偶数)\n",
    "- RoundNearestTiesAway 最近接丸め(0から遠いほう)\n",
    "- RoundNearestTiesUP 最近接丸め(切り上げ)"
   ]
  },
  {
   "cell_type": "code",
   "execution_count": 5,
   "metadata": {},
   "outputs": [
    {
     "data": {
      "text/plain": [
       "3"
      ]
     },
     "metadata": {},
     "output_type": "display_data"
    }
   ],
   "source": [
    "div(5,2,RoundNearestTiesAway)"
   ]
  },
  {
   "cell_type": "code",
   "execution_count": 6,
   "metadata": {},
   "outputs": [
    {
     "data": {
      "text/plain": [
       "-3"
      ]
     },
     "metadata": {},
     "output_type": "display_data"
    }
   ],
   "source": [
    "÷(-5,2,RoundDown)"
   ]
  },
  {
   "cell_type": "markdown",
   "metadata": {},
   "source": [
    "- %,rem 整数剰余算(切り捨て)\n",
    "- mod 整数剰余算(切り下げ)　"
   ]
  },
  {
   "cell_type": "code",
   "execution_count": 1,
   "metadata": {},
   "outputs": [
    {
     "data": {
      "text/plain": [
       "(3.0, 0.7)"
      ]
     },
     "metadata": {},
     "output_type": "display_data"
    }
   ],
   "source": [
    "divrem(4.3,1.2)"
   ]
  },
  {
   "cell_type": "code",
   "execution_count": 3,
   "metadata": {},
   "outputs": [
    {
     "data": {
      "text/plain": [
       "dayname (generic function with 1 method)"
      ]
     },
     "metadata": {},
     "output_type": "display_data"
    }
   ],
   "source": [
    "dayofweek(date) = mod1(days(date),7)\n",
    "days_of_week = [\"Monday\" , \"Tuesday\" , \"Wednesday\" , \"Thursday\", \"Friday\" ,\"Saturday\" ,\"Sunday\"]\n",
    "dayname(date) = days_of_week[dayofweek]"
   ]
  },
  {
   "cell_type": "code",
   "execution_count": 16,
   "metadata": {},
   "outputs": [
    {
     "data": {
      "text/plain": [
       "4.6017763138449626"
      ]
     },
     "metadata": {},
     "output_type": "display_data"
    }
   ],
   "source": [
    "mod(2+2π , 2pi)\n",
    "mod2pi(10)\n",
    "rem2pi(80,RoundDown)"
   ]
  },
  {
   "cell_type": "markdown",
   "metadata": {},
   "source": [
    "行列演算では有用らしい"
   ]
  },
  {
   "cell_type": "code",
   "execution_count": 18,
   "metadata": {},
   "outputs": [
    {
     "data": {
      "text/plain": [
       "1.5"
      ]
     },
     "metadata": {},
     "output_type": "display_data"
    }
   ],
   "source": [
    "2\\3"
   ]
  },
  {
   "cell_type": "markdown",
   "metadata": {},
   "source": [
    "### 積和演算\n",
    "x * y + z\n",
    "- fma() 精度優先\n",
    "- muladd() パフォーマンス優先"
   ]
  },
  {
   "cell_type": "code",
   "execution_count": 20,
   "metadata": {},
   "outputs": [
    {
     "data": {
      "text/plain": [
       "0.32"
      ]
     },
     "metadata": {},
     "output_type": "display_data"
    }
   ],
   "source": [
    "fma(0.1,0.2,0.3)\n",
    "muladd(0.1,0.2,0.3)"
   ]
  },
  {
   "cell_type": "markdown",
   "metadata": {},
   "source": [
    "### 剰余演算"
   ]
  },
  {
   "cell_type": "markdown",
   "metadata": {},
   "source": [
    "オーバーフローしないようになっている"
   ]
  },
  {
   "cell_type": "code",
   "execution_count": 21,
   "metadata": {},
   "outputs": [
    {
     "data": {
      "text/plain": [
       "5"
      ]
     },
     "metadata": {},
     "output_type": "display_data"
    }
   ],
   "source": [
    "powermod(5,2,20) # == mod(5^2,20)"
   ]
  },
  {
   "cell_type": "markdown",
   "metadata": {},
   "source": [
    "### 演算系\n",
    "- sign(x) 符号関数\n",
    "- sign(y) 符号関数 true false\n",
    "- cmp(x,y) 比較関数\n",
    "- abs(x) 絶対値\n",
    "- abs2(x) 絶対値の2乗\n",
    "- copysign(x,y) abs(x)*sign(y)\n",
    "- flipsign(x,y) x*sign(y)\n",
    "- sqrt(x)\n",
    "- isqrt(x) 整数平方根\n",
    "- cbrt(x) 立方根"
   ]
  },
  {
   "cell_type": "markdown",
   "metadata": {},
   "source": [
    "### 数学系\n",
    "- sin 正弦\n",
    "- cos 余弦\n",
    "- tan 正接\n",
    "- asin 逆正弦\n",
    "- acos 逆余弦\n",
    "- atan 逆正接\n",
    "- atan(x,y) arctan(y/x)\n",
    "- exp 指数\n",
    "- log 自然対数\n",
    "- log(b,x) bを底とする対数\n",
    "- sinh 双曲正弦\n",
    "- cosh 双曲余弦\n",
    "- tanh 双曲正接\n",
    "- asinh \n",
    "- acosh\n",
    "- atanh\n",
    "- sec\n",
    "- csc\n",
    "- cot\n",
    "- asec\n",
    "- acot\n",
    "- log10\n",
    "- log2\n",
    "- log1p log(x + 1)\n",
    "- deg2rad 度 → ラジアン\n",
    "- rad2deg\n",
    "- 三角関数にdをつければ度数法\n",
    "- sinpi sin(π*x)\n",
    "- cospi\n",
    "- tanpi\n",
    "- sincos (sin(x), cos(x))\n",
    "- sincospi\n",
    "- cis exp(i*im)\n",
    "- cispi cis(π*x)\n",
    "- factorial n!\n",
    "- bionomial nCm\n",
    "- gcd(a,b...)\n",
    "- gcdx() 最大公約数 + ベズー係数"
   ]
  },
  {
   "cell_type": "markdown",
   "metadata": {},
   "source": [
    "### 文字・文字列情報取得関数・演算子\n",
    "- length\n",
    "- sizeof\n",
    "- ncodeunits\n",
    "- codepoint\n",
    "- codeunits\n",
    "- codeunit\n",
    "- s[i] インデクシング\n",
    "- @view s[i] 部分文字列抽出\n",
    "- first(s) 文字列の最初の文字\n",
    "- frist(s,n)\n",
    "- last(s)\n",
    "- last(s,n)\n",
    "- firstindex(s) 文字列最初のインデックス\n",
    "- lastindex(s) 文字列最後のインデックス\n",
    "- thisind(s,i)\n",
    "- prevind(s,i)\n",
    "- eachindex(s)\n",
    "- keys(s) \n",
    "- textwidth(s) 文字列の表示幅"
   ]
  },
  {
   "cell_type": "markdown",
   "metadata": {},
   "source": [
    "### 文字・文字列比較関数・演算子\n",
    "- == 等価演算子\n",
    "- != ,≠ 非等価演算子\n",
    "- < <= > >=\n",
    "- cmp 辞書式大小比較\n",
    "- c in S \\in \\notin"
   ]
  },
  {
   "cell_type": "markdown",
   "metadata": {
    "tags": []
   },
   "source": [
    "### 文字列操作関数・演算子\n",
    "- string(v..) 文字列化関数\n",
    "- s*t 文字列連結\n",
    "- s^n , repeat(s,n) 文字列リピート\n",
    "- uppercase(s) 小文字を大文字に変換\n",
    "- lowercase(s) 大文字を小文字に変換\n",
    "- uppercasefirst(s) 文字列の最初の文字を大文字に変換\n",
    "- lowercasefirst(s)\n",
    "- titlecase(s) 文字列の最初の文字を大文字に，それ以外を小文字に\n",
    "- join(collection ,delim)コレクションの各要素をdelimで連結した文字列を生成\n",
    "- chop(s) 文字列の末尾の文字除去\n",
    "- chomp(s) 文字列末尾の改行文字除去\n",
    "- split(s) rsplit(s) ホワイトスペースによる文字列分割\n",
    "- split(s,pattern) rsplit(s,pattern) patternによる文字列分割\n",
    "- strip(s) lstrip(s) rstrip(s) 文字列の先頭，末尾のホワイトスペースの除去\n",
    "- strip(s,chars),lstrip(s,chars),rstrip(s,chars) 文字列の先頭/末尾の特定文字の除去\n",
    "- strip(fn,s),lstrip(fn,s),rstrip(fn,s) 文字列の先頭/末尾の特定文字の除去\n",
    "- lpad(s,l.pad=' '),rpad(s,l,pad=' ') 文字列の行埋め\n",
    "- reverse() 文字列反転"
   ]
  },
  {
   "cell_type": "markdown",
   "metadata": {},
   "source": [
    "### 文字列検索･置換関連関数\n",
    "- match(r::Regex, s) 正規表現マッチ\n",
    "- each(r::Regex, s) 正規表現マッチイテレーション\n",
    "- findfirst(pattern .s,) パターン検索(先頭から)\n",
    "- findnext(patten,s,i) パターン検索(iバイト目以降)\n",
    "- findlast(ptnstr,s) 文字列検索(末尾から)\n",
    "- findprev(prnstr, s, i)文字列検索(iバイト目以前)\n",
    "- findall(pattern,s) パターン検索\n",
    "- count(patten,s) パターン検索(件数)\n",
    "- occursin(patten,s) パターンが含まれるか否か\n",
    "- contains(s,pattern) 同上\n",
    "- startswith(s,pattern) パターンで始まるか否か\n",
    "- endswith(s,pattern) パターンで終わるか否か\n",
    "- replace(s,patten=>subst) 文字列置換"
   ]
  },
  {
   "cell_type": "markdown",
   "metadata": {},
   "source": [
    "### Julia の正規表現\n",
    "- ^ 先頭 \n",
    "- | 代替\n",
    "- . 任意の1文字\n",
    "- * 直前のパターンの0回以上の繰り返し\n",
    "- + 直前のパターンの1回以上の繰り返し\n",
    "- {n,m} 直前のパターンのn回以上m回以下の繰り返し {n} n回の繰り返し\n",
    "- [a-z] 文字クラス\n",
    "- \\s ホワイトスペース\n",
    "- \\d 数字\n",
    "- \\w 単語構成文字\n",
    "- (...) キャプチャグループ\n",
    "- (?<name>...) 名前付きキャプチャグループ"
   ]
  },
  {
   "cell_type": "markdown",
   "metadata": {},
   "source": [
    "#### 正規表現のモードフラグ\n",
    "- i 大文字小文字区別しない\n",
    "- m 複数行モード\n",
    "- s 任意の1文字が改行にもマッチ\n",
    "- a ASCIIモード\n",
    "- x コメントモード"
   ]
  },
  {
   "cell_type": "code",
   "execution_count": 24,
   "metadata": {},
   "outputs": [
    {
     "data": {
      "text/plain": [
       "\"123\""
      ]
     },
     "metadata": {},
     "output_type": "display_data"
    }
   ],
   "source": [
    "m = match(r\"\\d+\",\"123dfaisfjhaklj54\") \n",
    "m.match"
   ]
  },
  {
   "cell_type": "code",
   "execution_count": 27,
   "metadata": {},
   "outputs": [
    {
     "data": {
      "text/plain": [
       "\"123ABC\""
      ]
     },
     "metadata": {},
     "output_type": "display_data"
    }
   ],
   "source": [
    "m = match(r\"(\\d+)(?<ABC>[ABC]+)\",\"123ABCdfaisfABCjhaklj54\") \n",
    "m.match"
   ]
  },
  {
   "cell_type": "code",
   "execution_count": 29,
   "metadata": {},
   "outputs": [
    {
     "name": "stdout",
     "output_type": "stream",
     "text": [
      "Yes\n",
      "I\n",
      "have\n",
      "a\n",
      "number\n"
     ]
    }
   ],
   "source": [
    "for m in eachmatch(r\"\\w+\",\"Yes, I have a number.\")\n",
    "  println(m.match)\n",
    "end"
   ]
  }
 ],
 "metadata": {
  "kernelspec": {
   "display_name": "Julia 1.9.3",
   "language": "julia",
   "name": "julia-1.9"
  },
  "language_info": {
   "file_extension": ".jl",
   "mimetype": "application/julia",
   "name": "julia",
   "version": "1.9.3"
  }
 },
 "nbformat": 4,
 "nbformat_minor": 2
}
